{
  "nbformat": 4,
  "nbformat_minor": 0,
  "metadata": {
    "colab": {
      "provenance": [],
      "gpuType": "T4"
    },
    "kernelspec": {
      "name": "python3",
      "display_name": "Python 3"
    },
    "language_info": {
      "name": "python"
    },
    "accelerator": "GPU"
  },
  "cells": [
    {
      "cell_type": "markdown",
      "source": [
        "#GETTING STARTED WITH TENSORFLOW"
      ],
      "metadata": {
        "id": "iwqHzLv9f4sW"
      }
    },
    {
      "cell_type": "code",
      "source": [
        "import tensorflow as tf"
      ],
      "metadata": {
        "id": "ghBjTdMvf_Cu"
      },
      "execution_count": null,
      "outputs": []
    },
    {
      "cell_type": "code",
      "source": [
        "print(\"version is\",tf.__version__)"
      ],
      "metadata": {
        "colab": {
          "base_uri": "https://localhost:8080/"
        },
        "id": "lkncSW5tgEMP",
        "outputId": "b6197858-9eb5-47b4-c423-a6fb7b510b84"
      },
      "execution_count": null,
      "outputs": [
        {
          "output_type": "stream",
          "name": "stdout",
          "text": [
            "version is 2.15.0\n"
          ]
        }
      ]
    },
    {
      "cell_type": "markdown",
      "source": [
        "#EAGER EXEC"
      ],
      "metadata": {
        "id": "MPlxqrUng4tG"
      }
    },
    {
      "cell_type": "code",
      "source": [
        "if tf.executing_eagerly():\n",
        "  print(\"enabled\")\n",
        "else:\n",
        "  print(\"disabled\")"
      ],
      "metadata": {
        "colab": {
          "base_uri": "https://localhost:8080/"
        },
        "id": "wpPe_0LqgWGX",
        "outputId": "0ff1abaa-8d09-42a5-ea5c-aa5a50d51a1d"
      },
      "execution_count": null,
      "outputs": [
        {
          "output_type": "stream",
          "name": "stdout",
          "text": [
            "enabled\n"
          ]
        }
      ]
    },
    {
      "cell_type": "markdown",
      "source": [
        "#GPU CHECK"
      ],
      "metadata": {
        "id": "92iC8bepjCNY"
      }
    },
    {
      "cell_type": "code",
      "source": [
        "if tf.test.gpu_device_name():\n",
        "  print(tf.test.gpu_device_name())\n",
        "\n",
        "else:\n",
        "  print(\"install GPU based req resources and tf\")"
      ],
      "metadata": {
        "colab": {
          "base_uri": "https://localhost:8080/"
        },
        "id": "BxwM8SjuhcnI",
        "outputId": "98fedd00-f2f2-4e4a-91e0-bf21515cc9e7"
      },
      "execution_count": null,
      "outputs": [
        {
          "output_type": "stream",
          "name": "stdout",
          "text": [
            "/device:GPU:0\n"
          ]
        }
      ]
    },
    {
      "cell_type": "code",
      "source": [
        "!nvidia-smi"
      ],
      "metadata": {
        "id": "DN9Vi5GwQ3DQ",
        "outputId": "3980def9-9c7f-4c1b-d894-d4ae7db07190",
        "colab": {
          "base_uri": "https://localhost:8080/"
        }
      },
      "execution_count": null,
      "outputs": [
        {
          "output_type": "stream",
          "name": "stdout",
          "text": [
            "Wed Jan  3 07:39:49 2024       \n",
            "+---------------------------------------------------------------------------------------+\n",
            "| NVIDIA-SMI 535.104.05             Driver Version: 535.104.05   CUDA Version: 12.2     |\n",
            "|-----------------------------------------+----------------------+----------------------+\n",
            "| GPU  Name                 Persistence-M | Bus-Id        Disp.A | Volatile Uncorr. ECC |\n",
            "| Fan  Temp   Perf          Pwr:Usage/Cap |         Memory-Usage | GPU-Util  Compute M. |\n",
            "|                                         |                      |               MIG M. |\n",
            "|=========================================+======================+======================|\n",
            "|   0  Tesla T4                       Off | 00000000:00:04.0 Off |                    0 |\n",
            "| N/A   54C    P0              28W /  70W |    103MiB / 15360MiB |      0%      Default |\n",
            "|                                         |                      |                  N/A |\n",
            "+-----------------------------------------+----------------------+----------------------+\n",
            "                                                                                         \n",
            "+---------------------------------------------------------------------------------------+\n",
            "| Processes:                                                                            |\n",
            "|  GPU   GI   CI        PID   Type   Process name                            GPU Memory |\n",
            "|        ID   ID                                                             Usage      |\n",
            "|=======================================================================================|\n",
            "+---------------------------------------------------------------------------------------+\n"
          ]
        }
      ]
    },
    {
      "cell_type": "markdown",
      "source": [
        "#CONSTANT TENSORS"
      ],
      "metadata": {
        "id": "OV4kuI1tjsaO"
      }
    },
    {
      "cell_type": "code",
      "source": [
        "ct=tf.constant([[1,2],[3,4]])"
      ],
      "metadata": {
        "id": "yEh63tIIjzZd"
      },
      "execution_count": null,
      "outputs": []
    },
    {
      "cell_type": "code",
      "source": [
        "ct"
      ],
      "metadata": {
        "colab": {
          "base_uri": "https://localhost:8080/"
        },
        "id": "5hmhbsWcj7mW",
        "outputId": "750c6367-dbd8-481b-cfca-2178f7b000ba"
      },
      "execution_count": null,
      "outputs": [
        {
          "output_type": "execute_result",
          "data": {
            "text/plain": [
              "<tf.Tensor: shape=(2, 2), dtype=int32, numpy=\n",
              "array([[1, 2],\n",
              "       [3, 4]], dtype=int32)>"
            ]
          },
          "metadata": {},
          "execution_count": 9
        }
      ]
    },
    {
      "cell_type": "markdown",
      "source": [
        "#VARIABLE TENSORS"
      ],
      "metadata": {
        "id": "tHEHQ8UolCrF"
      }
    },
    {
      "cell_type": "code",
      "source": [
        "vt=tf.Variable([[5,6],[7,8]])"
      ],
      "metadata": {
        "id": "V5FwTzCAlFe9"
      },
      "execution_count": null,
      "outputs": []
    },
    {
      "cell_type": "code",
      "source": [
        "vt"
      ],
      "metadata": {
        "colab": {
          "base_uri": "https://localhost:8080/"
        },
        "id": "JGfi7SSclM4t",
        "outputId": "48bb3cee-71d5-4c9c-ed7e-49d1696e8e7c"
      },
      "execution_count": null,
      "outputs": [
        {
          "output_type": "execute_result",
          "data": {
            "text/plain": [
              "<tf.Variable 'Variable:0' shape=(2, 2) dtype=int32, numpy=\n",
              "array([[5, 6],\n",
              "       [7, 8]], dtype=int32)>"
            ]
          },
          "metadata": {},
          "execution_count": 12
        }
      ]
    },
    {
      "cell_type": "markdown",
      "source": [
        "#CONCAT"
      ],
      "metadata": {
        "id": "jPIHD5A4liNm"
      }
    },
    {
      "cell_type": "code",
      "source": [
        "row_concat=tf.concat(values=[ct,vt],axis=0)"
      ],
      "metadata": {
        "id": "ckgXLRNdlqzk"
      },
      "execution_count": null,
      "outputs": []
    },
    {
      "cell_type": "code",
      "source": [
        "row_concat"
      ],
      "metadata": {
        "colab": {
          "base_uri": "https://localhost:8080/"
        },
        "id": "rlSv0BSzl4nW",
        "outputId": "072573d1-7d4a-4458-b01a-0bbcdb123eba"
      },
      "execution_count": null,
      "outputs": [
        {
          "output_type": "execute_result",
          "data": {
            "text/plain": [
              "<tf.Tensor: shape=(4, 2), dtype=int32, numpy=\n",
              "array([[1, 2],\n",
              "       [3, 4],\n",
              "       [5, 6],\n",
              "       [7, 8]], dtype=int32)>"
            ]
          },
          "metadata": {},
          "execution_count": 16
        }
      ]
    },
    {
      "cell_type": "code",
      "source": [
        "col_concat=tf.concat(values=[ct,vt],axis=1)"
      ],
      "metadata": {
        "id": "2Kzgm57wl6Lt"
      },
      "execution_count": null,
      "outputs": []
    },
    {
      "cell_type": "code",
      "source": [
        "col_concat"
      ],
      "metadata": {
        "colab": {
          "base_uri": "https://localhost:8080/"
        },
        "id": "tPbBsOgkmH9m",
        "outputId": "021f4e1e-831d-4fdb-936b-dd756e7809b2"
      },
      "execution_count": null,
      "outputs": [
        {
          "output_type": "execute_result",
          "data": {
            "text/plain": [
              "<tf.Tensor: shape=(2, 4), dtype=int32, numpy=\n",
              "array([[1, 2, 5, 6],\n",
              "       [3, 4, 7, 8]], dtype=int32)>"
            ]
          },
          "metadata": {},
          "execution_count": 18
        }
      ]
    },
    {
      "cell_type": "markdown",
      "source": [
        "#0,1... TENSORS"
      ],
      "metadata": {
        "id": "ODW1654RnBIe"
      }
    },
    {
      "cell_type": "code",
      "source": [
        "zero=tf.zeros(shape=[2,2],dtype=tf.int32)"
      ],
      "metadata": {
        "id": "4fPdQLtLnQck"
      },
      "execution_count": null,
      "outputs": []
    },
    {
      "cell_type": "code",
      "source": [
        "zero"
      ],
      "metadata": {
        "colab": {
          "base_uri": "https://localhost:8080/"
        },
        "id": "lae5vWWxndLG",
        "outputId": "705ce976-6d95-48c6-e862-8672d2c19f82"
      },
      "execution_count": null,
      "outputs": [
        {
          "output_type": "execute_result",
          "data": {
            "text/plain": [
              "<tf.Tensor: shape=(2, 2), dtype=int32, numpy=\n",
              "array([[0, 0],\n",
              "       [0, 0]], dtype=int32)>"
            ]
          },
          "metadata": {},
          "execution_count": 20
        }
      ]
    },
    {
      "cell_type": "code",
      "source": [
        "ones=tf.ones(shape=[3,4],dtype=tf.int32)"
      ],
      "metadata": {
        "id": "ijJIHzrTneEJ"
      },
      "execution_count": null,
      "outputs": []
    },
    {
      "cell_type": "code",
      "source": [
        "ones"
      ],
      "metadata": {
        "colab": {
          "base_uri": "https://localhost:8080/"
        },
        "id": "A4qrzLiqnwyV",
        "outputId": "df3c277c-c564-4f39-cf07-dff358ba739a"
      },
      "execution_count": null,
      "outputs": [
        {
          "output_type": "execute_result",
          "data": {
            "text/plain": [
              "<tf.Tensor: shape=(3, 4), dtype=int32, numpy=\n",
              "array([[1, 1, 1, 1],\n",
              "       [1, 1, 1, 1],\n",
              "       [1, 1, 1, 1]], dtype=int32)>"
            ]
          },
          "metadata": {},
          "execution_count": 24
        }
      ]
    },
    {
      "cell_type": "markdown",
      "source": [
        "#TRANSPOSE"
      ],
      "metadata": {
        "id": "quP7EF-BoOG-"
      }
    },
    {
      "cell_type": "code",
      "source": [
        "tt=tf.transpose(ct)"
      ],
      "metadata": {
        "id": "IhCtaCPDoP84"
      },
      "execution_count": null,
      "outputs": []
    },
    {
      "cell_type": "code",
      "source": [
        "tt"
      ],
      "metadata": {
        "colab": {
          "base_uri": "https://localhost:8080/"
        },
        "id": "Y1DYwCAnoVs-",
        "outputId": "c6230b32-1de6-4cfa-abeb-9c68b5ad7f1c"
      },
      "execution_count": null,
      "outputs": [
        {
          "output_type": "execute_result",
          "data": {
            "text/plain": [
              "<tf.Tensor: shape=(2, 2), dtype=int32, numpy=\n",
              "array([[1, 3],\n",
              "       [2, 4]], dtype=int32)>"
            ]
          },
          "metadata": {},
          "execution_count": 26
        }
      ]
    },
    {
      "cell_type": "markdown",
      "source": [
        "#TYPE CONVERSION"
      ],
      "metadata": {
        "id": "qTdxb7jIooEN"
      }
    },
    {
      "cell_type": "code",
      "source": [
        "tt_float=tf.cast(tt,tf.float32)"
      ],
      "metadata": {
        "id": "d5mCz_UaorkH"
      },
      "execution_count": null,
      "outputs": []
    },
    {
      "cell_type": "code",
      "source": [
        "tt_float"
      ],
      "metadata": {
        "colab": {
          "base_uri": "https://localhost:8080/"
        },
        "id": "sG_O4--jo_YE",
        "outputId": "44fc47c2-deba-40cb-e5bc-090a10eb2cb2"
      },
      "execution_count": null,
      "outputs": [
        {
          "output_type": "execute_result",
          "data": {
            "text/plain": [
              "<tf.Tensor: shape=(2, 2), dtype=float32, numpy=\n",
              "array([[1., 3.],\n",
              "       [2., 4.]], dtype=float32)>"
            ]
          },
          "metadata": {},
          "execution_count": 28
        }
      ]
    },
    {
      "cell_type": "markdown",
      "source": [
        "#TENSOR MULTI"
      ],
      "metadata": {
        "id": "18HW5l5XpOPl"
      }
    },
    {
      "cell_type": "code",
      "source": [
        "tm=tf.multiply(tt,ct) #direct mult"
      ],
      "metadata": {
        "id": "qoKmmK_CpRKx"
      },
      "execution_count": null,
      "outputs": []
    },
    {
      "cell_type": "code",
      "source": [
        "tm"
      ],
      "metadata": {
        "colab": {
          "base_uri": "https://localhost:8080/"
        },
        "id": "h1jBTU-FpXPO",
        "outputId": "014de07d-2a59-4cb6-cf92-b6797b23c38f"
      },
      "execution_count": null,
      "outputs": [
        {
          "output_type": "execute_result",
          "data": {
            "text/plain": [
              "<tf.Tensor: shape=(2, 2), dtype=int32, numpy=\n",
              "array([[ 1,  6],\n",
              "       [ 6, 16]], dtype=int32)>"
            ]
          },
          "metadata": {},
          "execution_count": 30
        }
      ]
    },
    {
      "cell_type": "code",
      "source": [
        "tmm=tf.matmul(tt,ct)"
      ],
      "metadata": {
        "id": "YKI5jjvSpY8F"
      },
      "execution_count": null,
      "outputs": []
    },
    {
      "cell_type": "code",
      "source": [
        "tmm"
      ],
      "metadata": {
        "colab": {
          "base_uri": "https://localhost:8080/"
        },
        "id": "EkX1IwKApq-Z",
        "outputId": "1dc4e440-fbfc-41b9-924c-83f3587479c3"
      },
      "execution_count": null,
      "outputs": [
        {
          "output_type": "execute_result",
          "data": {
            "text/plain": [
              "<tf.Tensor: shape=(2, 2), dtype=int32, numpy=\n",
              "array([[10, 14],\n",
              "       [14, 20]], dtype=int32)>"
            ]
          },
          "metadata": {},
          "execution_count": 33
        }
      ]
    },
    {
      "cell_type": "markdown",
      "source": [
        "#TENSOR DETERMINANT"
      ],
      "metadata": {
        "id": "uZkCyzynqO71"
      }
    },
    {
      "cell_type": "code",
      "source": [
        "td=tf.linalg.det(tt_float)"
      ],
      "metadata": {
        "id": "k2DcMaCnqUFz"
      },
      "execution_count": null,
      "outputs": []
    },
    {
      "cell_type": "code",
      "source": [
        "td"
      ],
      "metadata": {
        "colab": {
          "base_uri": "https://localhost:8080/"
        },
        "id": "KntUpzGKqdfc",
        "outputId": "997c3015-4b68-4187-fc08-18561d9b4c47"
      },
      "execution_count": null,
      "outputs": [
        {
          "output_type": "execute_result",
          "data": {
            "text/plain": [
              "<tf.Tensor: shape=(), dtype=float32, numpy=-2.0>"
            ]
          },
          "metadata": {},
          "execution_count": 37
        }
      ]
    },
    {
      "cell_type": "markdown",
      "source": [
        "#INVERSE"
      ],
      "metadata": {
        "id": "MUG8w28Mqwbf"
      }
    },
    {
      "cell_type": "code",
      "source": [
        "inverse=tf.linalg.inv(tt_float)"
      ],
      "metadata": {
        "id": "350sWyYHq-F4"
      },
      "execution_count": null,
      "outputs": []
    },
    {
      "cell_type": "code",
      "source": [
        "inverse"
      ],
      "metadata": {
        "colab": {
          "base_uri": "https://localhost:8080/"
        },
        "id": "35nfTYeirEyF",
        "outputId": "57befb93-4dae-474b-c350-e4491a876361"
      },
      "execution_count": null,
      "outputs": [
        {
          "output_type": "execute_result",
          "data": {
            "text/plain": [
              "<tf.Tensor: shape=(2, 2), dtype=float32, numpy=\n",
              "array([[-2. ,  1.5],\n",
              "       [ 1. , -0.5]], dtype=float32)>"
            ]
          },
          "metadata": {},
          "execution_count": 39
        }
      ]
    },
    {
      "cell_type": "markdown",
      "source": [
        "#IDENTITY MATRIX"
      ],
      "metadata": {
        "id": "N-p-GBS7rJlF"
      }
    },
    {
      "cell_type": "code",
      "source": [
        "identity=tf.eye(num_rows=2,num_columns=2,dtype=tf.int32)"
      ],
      "metadata": {
        "id": "Pn7bEOt2rhK4"
      },
      "execution_count": null,
      "outputs": []
    },
    {
      "cell_type": "code",
      "source": [
        "identity"
      ],
      "metadata": {
        "colab": {
          "base_uri": "https://localhost:8080/"
        },
        "id": "Vjg0aasUrw6l",
        "outputId": "1aed7972-ed72-49ae-e9c5-a743fbb826e2"
      },
      "execution_count": null,
      "outputs": [
        {
          "output_type": "execute_result",
          "data": {
            "text/plain": [
              "<tf.Tensor: shape=(2, 2), dtype=int32, numpy=\n",
              "array([[1, 0],\n",
              "       [0, 1]], dtype=int32)>"
            ]
          },
          "metadata": {},
          "execution_count": 41
        }
      ]
    },
    {
      "cell_type": "markdown",
      "source": [
        "#RESHAPING TENSOR"
      ],
      "metadata": {
        "id": "Bgifv6vPr1zF"
      }
    },
    {
      "cell_type": "code",
      "source": [
        "rt=tf.reshape(tensor=inverse,shape=[4,1])"
      ],
      "metadata": {
        "id": "aRsNiBhFr4st"
      },
      "execution_count": null,
      "outputs": []
    },
    {
      "cell_type": "code",
      "source": [
        "rt"
      ],
      "metadata": {
        "colab": {
          "base_uri": "https://localhost:8080/"
        },
        "id": "Jo3REOfbsFg0",
        "outputId": "a287eac1-d041-4ab2-e8e0-d94be7e26490"
      },
      "execution_count": null,
      "outputs": [
        {
          "output_type": "execute_result",
          "data": {
            "text/plain": [
              "<tf.Tensor: shape=(4, 1), dtype=float32, numpy=\n",
              "array([[-2. ],\n",
              "       [ 1.5],\n",
              "       [ 1. ],\n",
              "       [-0.5]], dtype=float32)>"
            ]
          },
          "metadata": {},
          "execution_count": 45
        }
      ]
    },
    {
      "cell_type": "markdown",
      "source": [
        "#NUMPY TO TENSOR"
      ],
      "metadata": {
        "id": "mPhcGFdCsNfR"
      }
    },
    {
      "cell_type": "code",
      "source": [
        "import numpy as np\n",
        "arr1=np.array([[2,2,3],[5,6,7]])\n",
        "arr1"
      ],
      "metadata": {
        "colab": {
          "base_uri": "https://localhost:8080/"
        },
        "id": "C9Pcmw-0spvC",
        "outputId": "62c91b75-5cc6-4693-9953-f8a659a70b57"
      },
      "execution_count": null,
      "outputs": [
        {
          "output_type": "execute_result",
          "data": {
            "text/plain": [
              "array([[2, 2, 3],\n",
              "       [5, 6, 7]])"
            ]
          },
          "metadata": {},
          "execution_count": 46
        }
      ]
    },
    {
      "cell_type": "code",
      "source": [
        "tf.convert_to_tensor(arr1)"
      ],
      "metadata": {
        "colab": {
          "base_uri": "https://localhost:8080/"
        },
        "id": "Ntp0hqvTs3kF",
        "outputId": "a1272897-375a-4a7a-8589-6d32cadbc244"
      },
      "execution_count": null,
      "outputs": [
        {
          "output_type": "execute_result",
          "data": {
            "text/plain": [
              "<tf.Tensor: shape=(2, 3), dtype=int64, numpy=\n",
              "array([[2, 2, 3],\n",
              "       [5, 6, 7]])>"
            ]
          },
          "metadata": {},
          "execution_count": 47
        }
      ]
    }
  ]
}