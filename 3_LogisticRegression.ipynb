{
  "nbformat": 4,
  "nbformat_minor": 0,
  "metadata": {
    "colab": {
      "provenance": []
    },
    "kernelspec": {
      "name": "python3",
      "display_name": "Python 3"
    },
    "language_info": {
      "name": "python"
    }
  },
  "cells": [
    {
      "cell_type": "markdown",
      "source": [
        "## LOGISTIC REGRESSION"
      ],
      "metadata": {
        "id": "frNH34XboulB"
      }
    },
    {
      "cell_type": "markdown",
      "source": [
        "#IMPORTING LIB"
      ],
      "metadata": {
        "id": "VNeB5Ac7lPHq"
      }
    },
    {
      "cell_type": "code",
      "source": [
        "import numpy as np"
      ],
      "metadata": {
        "id": "R61SjvUvleuh"
      },
      "execution_count": null,
      "outputs": []
    },
    {
      "cell_type": "code",
      "source": [
        "import pandas as pd"
      ],
      "metadata": {
        "id": "eF-ifPLNmDRi"
      },
      "execution_count": null,
      "outputs": []
    },
    {
      "cell_type": "code",
      "source": [
        "import matplotlib.pyplot as plt"
      ],
      "metadata": {
        "id": "l3zcXoh5mFlo"
      },
      "execution_count": null,
      "outputs": []
    },
    {
      "cell_type": "code",
      "source": [
        "import tensorflow as tf"
      ],
      "metadata": {
        "id": "XtMwaXRkmIzA"
      },
      "execution_count": null,
      "outputs": []
    },
    {
      "cell_type": "code",
      "source": [
        "from sklearn.datasets import load_iris"
      ],
      "metadata": {
        "id": "Es1yJyKimKYh"
      },
      "execution_count": null,
      "outputs": []
    },
    {
      "cell_type": "code",
      "source": [
        "from sklearn.model_selection import train_test_split"
      ],
      "metadata": {
        "id": "PlokzeIZmQCx"
      },
      "execution_count": null,
      "outputs": []
    },
    {
      "cell_type": "markdown",
      "source": [
        "#import dataset"
      ],
      "metadata": {
        "id": "yh3iRqvbmj3X"
      }
    },
    {
      "cell_type": "code",
      "source": [
        "a=load_iris()"
      ],
      "metadata": {
        "id": "bi_lll1-mnG_"
      },
      "execution_count": null,
      "outputs": []
    },
    {
      "cell_type": "code",
      "source": [
        "a"
      ],
      "metadata": {
        "colab": {
          "base_uri": "https://localhost:8080/"
        },
        "id": "M_RvcrN_mrM3",
        "outputId": "83e1d62a-141f-433c-8fd8-330fcebf385a"
      },
      "execution_count": null,
      "outputs": [
        {
          "output_type": "execute_result",
          "data": {
            "text/plain": [
              "{'data': array([[5.1, 3.5, 1.4, 0.2],\n",
              "        [4.9, 3. , 1.4, 0.2],\n",
              "        [4.7, 3.2, 1.3, 0.2],\n",
              "        [4.6, 3.1, 1.5, 0.2],\n",
              "        [5. , 3.6, 1.4, 0.2],\n",
              "        [5.4, 3.9, 1.7, 0.4],\n",
              "        [4.6, 3.4, 1.4, 0.3],\n",
              "        [5. , 3.4, 1.5, 0.2],\n",
              "        [4.4, 2.9, 1.4, 0.2],\n",
              "        [4.9, 3.1, 1.5, 0.1],\n",
              "        [5.4, 3.7, 1.5, 0.2],\n",
              "        [4.8, 3.4, 1.6, 0.2],\n",
              "        [4.8, 3. , 1.4, 0.1],\n",
              "        [4.3, 3. , 1.1, 0.1],\n",
              "        [5.8, 4. , 1.2, 0.2],\n",
              "        [5.7, 4.4, 1.5, 0.4],\n",
              "        [5.4, 3.9, 1.3, 0.4],\n",
              "        [5.1, 3.5, 1.4, 0.3],\n",
              "        [5.7, 3.8, 1.7, 0.3],\n",
              "        [5.1, 3.8, 1.5, 0.3],\n",
              "        [5.4, 3.4, 1.7, 0.2],\n",
              "        [5.1, 3.7, 1.5, 0.4],\n",
              "        [4.6, 3.6, 1. , 0.2],\n",
              "        [5.1, 3.3, 1.7, 0.5],\n",
              "        [4.8, 3.4, 1.9, 0.2],\n",
              "        [5. , 3. , 1.6, 0.2],\n",
              "        [5. , 3.4, 1.6, 0.4],\n",
              "        [5.2, 3.5, 1.5, 0.2],\n",
              "        [5.2, 3.4, 1.4, 0.2],\n",
              "        [4.7, 3.2, 1.6, 0.2],\n",
              "        [4.8, 3.1, 1.6, 0.2],\n",
              "        [5.4, 3.4, 1.5, 0.4],\n",
              "        [5.2, 4.1, 1.5, 0.1],\n",
              "        [5.5, 4.2, 1.4, 0.2],\n",
              "        [4.9, 3.1, 1.5, 0.2],\n",
              "        [5. , 3.2, 1.2, 0.2],\n",
              "        [5.5, 3.5, 1.3, 0.2],\n",
              "        [4.9, 3.6, 1.4, 0.1],\n",
              "        [4.4, 3. , 1.3, 0.2],\n",
              "        [5.1, 3.4, 1.5, 0.2],\n",
              "        [5. , 3.5, 1.3, 0.3],\n",
              "        [4.5, 2.3, 1.3, 0.3],\n",
              "        [4.4, 3.2, 1.3, 0.2],\n",
              "        [5. , 3.5, 1.6, 0.6],\n",
              "        [5.1, 3.8, 1.9, 0.4],\n",
              "        [4.8, 3. , 1.4, 0.3],\n",
              "        [5.1, 3.8, 1.6, 0.2],\n",
              "        [4.6, 3.2, 1.4, 0.2],\n",
              "        [5.3, 3.7, 1.5, 0.2],\n",
              "        [5. , 3.3, 1.4, 0.2],\n",
              "        [7. , 3.2, 4.7, 1.4],\n",
              "        [6.4, 3.2, 4.5, 1.5],\n",
              "        [6.9, 3.1, 4.9, 1.5],\n",
              "        [5.5, 2.3, 4. , 1.3],\n",
              "        [6.5, 2.8, 4.6, 1.5],\n",
              "        [5.7, 2.8, 4.5, 1.3],\n",
              "        [6.3, 3.3, 4.7, 1.6],\n",
              "        [4.9, 2.4, 3.3, 1. ],\n",
              "        [6.6, 2.9, 4.6, 1.3],\n",
              "        [5.2, 2.7, 3.9, 1.4],\n",
              "        [5. , 2. , 3.5, 1. ],\n",
              "        [5.9, 3. , 4.2, 1.5],\n",
              "        [6. , 2.2, 4. , 1. ],\n",
              "        [6.1, 2.9, 4.7, 1.4],\n",
              "        [5.6, 2.9, 3.6, 1.3],\n",
              "        [6.7, 3.1, 4.4, 1.4],\n",
              "        [5.6, 3. , 4.5, 1.5],\n",
              "        [5.8, 2.7, 4.1, 1. ],\n",
              "        [6.2, 2.2, 4.5, 1.5],\n",
              "        [5.6, 2.5, 3.9, 1.1],\n",
              "        [5.9, 3.2, 4.8, 1.8],\n",
              "        [6.1, 2.8, 4. , 1.3],\n",
              "        [6.3, 2.5, 4.9, 1.5],\n",
              "        [6.1, 2.8, 4.7, 1.2],\n",
              "        [6.4, 2.9, 4.3, 1.3],\n",
              "        [6.6, 3. , 4.4, 1.4],\n",
              "        [6.8, 2.8, 4.8, 1.4],\n",
              "        [6.7, 3. , 5. , 1.7],\n",
              "        [6. , 2.9, 4.5, 1.5],\n",
              "        [5.7, 2.6, 3.5, 1. ],\n",
              "        [5.5, 2.4, 3.8, 1.1],\n",
              "        [5.5, 2.4, 3.7, 1. ],\n",
              "        [5.8, 2.7, 3.9, 1.2],\n",
              "        [6. , 2.7, 5.1, 1.6],\n",
              "        [5.4, 3. , 4.5, 1.5],\n",
              "        [6. , 3.4, 4.5, 1.6],\n",
              "        [6.7, 3.1, 4.7, 1.5],\n",
              "        [6.3, 2.3, 4.4, 1.3],\n",
              "        [5.6, 3. , 4.1, 1.3],\n",
              "        [5.5, 2.5, 4. , 1.3],\n",
              "        [5.5, 2.6, 4.4, 1.2],\n",
              "        [6.1, 3. , 4.6, 1.4],\n",
              "        [5.8, 2.6, 4. , 1.2],\n",
              "        [5. , 2.3, 3.3, 1. ],\n",
              "        [5.6, 2.7, 4.2, 1.3],\n",
              "        [5.7, 3. , 4.2, 1.2],\n",
              "        [5.7, 2.9, 4.2, 1.3],\n",
              "        [6.2, 2.9, 4.3, 1.3],\n",
              "        [5.1, 2.5, 3. , 1.1],\n",
              "        [5.7, 2.8, 4.1, 1.3],\n",
              "        [6.3, 3.3, 6. , 2.5],\n",
              "        [5.8, 2.7, 5.1, 1.9],\n",
              "        [7.1, 3. , 5.9, 2.1],\n",
              "        [6.3, 2.9, 5.6, 1.8],\n",
              "        [6.5, 3. , 5.8, 2.2],\n",
              "        [7.6, 3. , 6.6, 2.1],\n",
              "        [4.9, 2.5, 4.5, 1.7],\n",
              "        [7.3, 2.9, 6.3, 1.8],\n",
              "        [6.7, 2.5, 5.8, 1.8],\n",
              "        [7.2, 3.6, 6.1, 2.5],\n",
              "        [6.5, 3.2, 5.1, 2. ],\n",
              "        [6.4, 2.7, 5.3, 1.9],\n",
              "        [6.8, 3. , 5.5, 2.1],\n",
              "        [5.7, 2.5, 5. , 2. ],\n",
              "        [5.8, 2.8, 5.1, 2.4],\n",
              "        [6.4, 3.2, 5.3, 2.3],\n",
              "        [6.5, 3. , 5.5, 1.8],\n",
              "        [7.7, 3.8, 6.7, 2.2],\n",
              "        [7.7, 2.6, 6.9, 2.3],\n",
              "        [6. , 2.2, 5. , 1.5],\n",
              "        [6.9, 3.2, 5.7, 2.3],\n",
              "        [5.6, 2.8, 4.9, 2. ],\n",
              "        [7.7, 2.8, 6.7, 2. ],\n",
              "        [6.3, 2.7, 4.9, 1.8],\n",
              "        [6.7, 3.3, 5.7, 2.1],\n",
              "        [7.2, 3.2, 6. , 1.8],\n",
              "        [6.2, 2.8, 4.8, 1.8],\n",
              "        [6.1, 3. , 4.9, 1.8],\n",
              "        [6.4, 2.8, 5.6, 2.1],\n",
              "        [7.2, 3. , 5.8, 1.6],\n",
              "        [7.4, 2.8, 6.1, 1.9],\n",
              "        [7.9, 3.8, 6.4, 2. ],\n",
              "        [6.4, 2.8, 5.6, 2.2],\n",
              "        [6.3, 2.8, 5.1, 1.5],\n",
              "        [6.1, 2.6, 5.6, 1.4],\n",
              "        [7.7, 3. , 6.1, 2.3],\n",
              "        [6.3, 3.4, 5.6, 2.4],\n",
              "        [6.4, 3.1, 5.5, 1.8],\n",
              "        [6. , 3. , 4.8, 1.8],\n",
              "        [6.9, 3.1, 5.4, 2.1],\n",
              "        [6.7, 3.1, 5.6, 2.4],\n",
              "        [6.9, 3.1, 5.1, 2.3],\n",
              "        [5.8, 2.7, 5.1, 1.9],\n",
              "        [6.8, 3.2, 5.9, 2.3],\n",
              "        [6.7, 3.3, 5.7, 2.5],\n",
              "        [6.7, 3. , 5.2, 2.3],\n",
              "        [6.3, 2.5, 5. , 1.9],\n",
              "        [6.5, 3. , 5.2, 2. ],\n",
              "        [6.2, 3.4, 5.4, 2.3],\n",
              "        [5.9, 3. , 5.1, 1.8]]),\n",
              " 'target': array([0, 0, 0, 0, 0, 0, 0, 0, 0, 0, 0, 0, 0, 0, 0, 0, 0, 0, 0, 0, 0, 0,\n",
              "        0, 0, 0, 0, 0, 0, 0, 0, 0, 0, 0, 0, 0, 0, 0, 0, 0, 0, 0, 0, 0, 0,\n",
              "        0, 0, 0, 0, 0, 0, 1, 1, 1, 1, 1, 1, 1, 1, 1, 1, 1, 1, 1, 1, 1, 1,\n",
              "        1, 1, 1, 1, 1, 1, 1, 1, 1, 1, 1, 1, 1, 1, 1, 1, 1, 1, 1, 1, 1, 1,\n",
              "        1, 1, 1, 1, 1, 1, 1, 1, 1, 1, 1, 1, 2, 2, 2, 2, 2, 2, 2, 2, 2, 2,\n",
              "        2, 2, 2, 2, 2, 2, 2, 2, 2, 2, 2, 2, 2, 2, 2, 2, 2, 2, 2, 2, 2, 2,\n",
              "        2, 2, 2, 2, 2, 2, 2, 2, 2, 2, 2, 2, 2, 2, 2, 2, 2, 2]),\n",
              " 'frame': None,\n",
              " 'target_names': array(['setosa', 'versicolor', 'virginica'], dtype='<U10'),\n",
              " 'DESCR': '.. _iris_dataset:\\n\\nIris plants dataset\\n--------------------\\n\\n**Data Set Characteristics:**\\n\\n    :Number of Instances: 150 (50 in each of three classes)\\n    :Number of Attributes: 4 numeric, predictive attributes and the class\\n    :Attribute Information:\\n        - sepal length in cm\\n        - sepal width in cm\\n        - petal length in cm\\n        - petal width in cm\\n        - class:\\n                - Iris-Setosa\\n                - Iris-Versicolour\\n                - Iris-Virginica\\n                \\n    :Summary Statistics:\\n\\n    ============== ==== ==== ======= ===== ====================\\n                    Min  Max   Mean    SD   Class Correlation\\n    ============== ==== ==== ======= ===== ====================\\n    sepal length:   4.3  7.9   5.84   0.83    0.7826\\n    sepal width:    2.0  4.4   3.05   0.43   -0.4194\\n    petal length:   1.0  6.9   3.76   1.76    0.9490  (high!)\\n    petal width:    0.1  2.5   1.20   0.76    0.9565  (high!)\\n    ============== ==== ==== ======= ===== ====================\\n\\n    :Missing Attribute Values: None\\n    :Class Distribution: 33.3% for each of 3 classes.\\n    :Creator: R.A. Fisher\\n    :Donor: Michael Marshall (MARSHALL%PLU@io.arc.nasa.gov)\\n    :Date: July, 1988\\n\\nThe famous Iris database, first used by Sir R.A. Fisher. The dataset is taken\\nfrom Fisher\\'s paper. Note that it\\'s the same as in R, but not as in the UCI\\nMachine Learning Repository, which has two wrong data points.\\n\\nThis is perhaps the best known database to be found in the\\npattern recognition literature.  Fisher\\'s paper is a classic in the field and\\nis referenced frequently to this day.  (See Duda & Hart, for example.)  The\\ndata set contains 3 classes of 50 instances each, where each class refers to a\\ntype of iris plant.  One class is linearly separable from the other 2; the\\nlatter are NOT linearly separable from each other.\\n\\n.. topic:: References\\n\\n   - Fisher, R.A. \"The use of multiple measurements in taxonomic problems\"\\n     Annual Eugenics, 7, Part II, 179-188 (1936); also in \"Contributions to\\n     Mathematical Statistics\" (John Wiley, NY, 1950).\\n   - Duda, R.O., & Hart, P.E. (1973) Pattern Classification and Scene Analysis.\\n     (Q327.D83) John Wiley & Sons.  ISBN 0-471-22361-1.  See page 218.\\n   - Dasarathy, B.V. (1980) \"Nosing Around the Neighborhood: A New System\\n     Structure and Classification Rule for Recognition in Partially Exposed\\n     Environments\".  IEEE Transactions on Pattern Analysis and Machine\\n     Intelligence, Vol. PAMI-2, No. 1, 67-71.\\n   - Gates, G.W. (1972) \"The Reduced Nearest Neighbor Rule\".  IEEE Transactions\\n     on Information Theory, May 1972, 431-433.\\n   - See also: 1988 MLC Proceedings, 54-64.  Cheeseman et al\"s AUTOCLASS II\\n     conceptual clustering system finds 3 classes in the data.\\n   - Many, many more ...',\n",
              " 'feature_names': ['sepal length (cm)',\n",
              "  'sepal width (cm)',\n",
              "  'petal length (cm)',\n",
              "  'petal width (cm)'],\n",
              " 'filename': 'iris.csv',\n",
              " 'data_module': 'sklearn.datasets.data'}"
            ]
          },
          "metadata": {},
          "execution_count": 11
        }
      ]
    },
    {
      "cell_type": "code",
      "source": [
        "a['target']"
      ],
      "metadata": {
        "colab": {
          "base_uri": "https://localhost:8080/"
        },
        "id": "oCN5hog6msSI",
        "outputId": "6b5bcc53-de8a-42e5-8e23-ca863ac46026"
      },
      "execution_count": null,
      "outputs": [
        {
          "output_type": "execute_result",
          "data": {
            "text/plain": [
              "array([0, 0, 0, 0, 0, 0, 0, 0, 0, 0, 0, 0, 0, 0, 0, 0, 0, 0, 0, 0, 0, 0,\n",
              "       0, 0, 0, 0, 0, 0, 0, 0, 0, 0, 0, 0, 0, 0, 0, 0, 0, 0, 0, 0, 0, 0,\n",
              "       0, 0, 0, 0, 0, 0, 1, 1, 1, 1, 1, 1, 1, 1, 1, 1, 1, 1, 1, 1, 1, 1,\n",
              "       1, 1, 1, 1, 1, 1, 1, 1, 1, 1, 1, 1, 1, 1, 1, 1, 1, 1, 1, 1, 1, 1,\n",
              "       1, 1, 1, 1, 1, 1, 1, 1, 1, 1, 1, 1, 2, 2, 2, 2, 2, 2, 2, 2, 2, 2,\n",
              "       2, 2, 2, 2, 2, 2, 2, 2, 2, 2, 2, 2, 2, 2, 2, 2, 2, 2, 2, 2, 2, 2,\n",
              "       2, 2, 2, 2, 2, 2, 2, 2, 2, 2, 2, 2, 2, 2, 2, 2, 2, 2])"
            ]
          },
          "metadata": {},
          "execution_count": 12
        }
      ]
    },
    {
      "cell_type": "code",
      "source": [
        "a['target_names']"
      ],
      "metadata": {
        "colab": {
          "base_uri": "https://localhost:8080/"
        },
        "id": "MnAtM_lvneJZ",
        "outputId": "25ba7e94-1105-4952-adb4-49dcad980ec5"
      },
      "execution_count": null,
      "outputs": [
        {
          "output_type": "execute_result",
          "data": {
            "text/plain": [
              "array(['setosa', 'versicolor', 'virginica'], dtype='<U10')"
            ]
          },
          "metadata": {},
          "execution_count": 13
        }
      ]
    },
    {
      "cell_type": "code",
      "source": [
        "a['feature_names']"
      ],
      "metadata": {
        "colab": {
          "base_uri": "https://localhost:8080/"
        },
        "id": "7YWZ0JWSnosg",
        "outputId": "b95dcc55-f028-4689-871e-64f3a5375012"
      },
      "execution_count": null,
      "outputs": [
        {
          "output_type": "execute_result",
          "data": {
            "text/plain": [
              "['sepal length (cm)',\n",
              " 'sepal width (cm)',\n",
              " 'petal length (cm)',\n",
              " 'petal width (cm)']"
            ]
          },
          "metadata": {},
          "execution_count": 14
        }
      ]
    },
    {
      "cell_type": "markdown",
      "source": [
        "#assigning independent and dependent variables"
      ],
      "metadata": {
        "id": "Q8LnFoJ3oi2h"
      }
    },
    {
      "cell_type": "code",
      "source": [
        "x=a['data']"
      ],
      "metadata": {
        "id": "YFzqk1yDomaZ"
      },
      "execution_count": null,
      "outputs": []
    },
    {
      "cell_type": "code",
      "source": [
        "y=a['target']"
      ],
      "metadata": {
        "id": "OyiVrwAso5sA"
      },
      "execution_count": null,
      "outputs": []
    },
    {
      "cell_type": "markdown",
      "source": [
        "#dataframe"
      ],
      "metadata": {
        "id": "ZCPwASTDo9fJ"
      }
    },
    {
      "cell_type": "code",
      "source": [
        "ds=pd.DataFrame(data=np.concatenate((x,y.reshape(-1,1)),axis=1),columns=[\"Sepal length\",\"Sepal width\",\"Petal length\",\"Petal width\",\"Target\"])"
      ],
      "metadata": {
        "id": "04qKGmNipAm9"
      },
      "execution_count": null,
      "outputs": []
    },
    {
      "cell_type": "code",
      "source": [
        "ds"
      ],
      "metadata": {
        "colab": {
          "base_uri": "https://localhost:8080/",
          "height": 424
        },
        "id": "7qk3Ob6Ypa1_",
        "outputId": "d7712395-5b97-4c24-9e13-9e8fcf9d722e"
      },
      "execution_count": null,
      "outputs": [
        {
          "output_type": "execute_result",
          "data": {
            "text/plain": [
              "     Sepal length  Sepal width  Petal length  Petal width  Target\n",
              "0             5.1          3.5           1.4          0.2     0.0\n",
              "1             4.9          3.0           1.4          0.2     0.0\n",
              "2             4.7          3.2           1.3          0.2     0.0\n",
              "3             4.6          3.1           1.5          0.2     0.0\n",
              "4             5.0          3.6           1.4          0.2     0.0\n",
              "..            ...          ...           ...          ...     ...\n",
              "145           6.7          3.0           5.2          2.3     2.0\n",
              "146           6.3          2.5           5.0          1.9     2.0\n",
              "147           6.5          3.0           5.2          2.0     2.0\n",
              "148           6.2          3.4           5.4          2.3     2.0\n",
              "149           5.9          3.0           5.1          1.8     2.0\n",
              "\n",
              "[150 rows x 5 columns]"
            ],
            "text/html": [
              "\n",
              "  <div id=\"df-4230c29e-7416-4f0a-b7a6-825570998105\" class=\"colab-df-container\">\n",
              "    <div>\n",
              "<style scoped>\n",
              "    .dataframe tbody tr th:only-of-type {\n",
              "        vertical-align: middle;\n",
              "    }\n",
              "\n",
              "    .dataframe tbody tr th {\n",
              "        vertical-align: top;\n",
              "    }\n",
              "\n",
              "    .dataframe thead th {\n",
              "        text-align: right;\n",
              "    }\n",
              "</style>\n",
              "<table border=\"1\" class=\"dataframe\">\n",
              "  <thead>\n",
              "    <tr style=\"text-align: right;\">\n",
              "      <th></th>\n",
              "      <th>Sepal length</th>\n",
              "      <th>Sepal width</th>\n",
              "      <th>Petal length</th>\n",
              "      <th>Petal width</th>\n",
              "      <th>Target</th>\n",
              "    </tr>\n",
              "  </thead>\n",
              "  <tbody>\n",
              "    <tr>\n",
              "      <th>0</th>\n",
              "      <td>5.1</td>\n",
              "      <td>3.5</td>\n",
              "      <td>1.4</td>\n",
              "      <td>0.2</td>\n",
              "      <td>0.0</td>\n",
              "    </tr>\n",
              "    <tr>\n",
              "      <th>1</th>\n",
              "      <td>4.9</td>\n",
              "      <td>3.0</td>\n",
              "      <td>1.4</td>\n",
              "      <td>0.2</td>\n",
              "      <td>0.0</td>\n",
              "    </tr>\n",
              "    <tr>\n",
              "      <th>2</th>\n",
              "      <td>4.7</td>\n",
              "      <td>3.2</td>\n",
              "      <td>1.3</td>\n",
              "      <td>0.2</td>\n",
              "      <td>0.0</td>\n",
              "    </tr>\n",
              "    <tr>\n",
              "      <th>3</th>\n",
              "      <td>4.6</td>\n",
              "      <td>3.1</td>\n",
              "      <td>1.5</td>\n",
              "      <td>0.2</td>\n",
              "      <td>0.0</td>\n",
              "    </tr>\n",
              "    <tr>\n",
              "      <th>4</th>\n",
              "      <td>5.0</td>\n",
              "      <td>3.6</td>\n",
              "      <td>1.4</td>\n",
              "      <td>0.2</td>\n",
              "      <td>0.0</td>\n",
              "    </tr>\n",
              "    <tr>\n",
              "      <th>...</th>\n",
              "      <td>...</td>\n",
              "      <td>...</td>\n",
              "      <td>...</td>\n",
              "      <td>...</td>\n",
              "      <td>...</td>\n",
              "    </tr>\n",
              "    <tr>\n",
              "      <th>145</th>\n",
              "      <td>6.7</td>\n",
              "      <td>3.0</td>\n",
              "      <td>5.2</td>\n",
              "      <td>2.3</td>\n",
              "      <td>2.0</td>\n",
              "    </tr>\n",
              "    <tr>\n",
              "      <th>146</th>\n",
              "      <td>6.3</td>\n",
              "      <td>2.5</td>\n",
              "      <td>5.0</td>\n",
              "      <td>1.9</td>\n",
              "      <td>2.0</td>\n",
              "    </tr>\n",
              "    <tr>\n",
              "      <th>147</th>\n",
              "      <td>6.5</td>\n",
              "      <td>3.0</td>\n",
              "      <td>5.2</td>\n",
              "      <td>2.0</td>\n",
              "      <td>2.0</td>\n",
              "    </tr>\n",
              "    <tr>\n",
              "      <th>148</th>\n",
              "      <td>6.2</td>\n",
              "      <td>3.4</td>\n",
              "      <td>5.4</td>\n",
              "      <td>2.3</td>\n",
              "      <td>2.0</td>\n",
              "    </tr>\n",
              "    <tr>\n",
              "      <th>149</th>\n",
              "      <td>5.9</td>\n",
              "      <td>3.0</td>\n",
              "      <td>5.1</td>\n",
              "      <td>1.8</td>\n",
              "      <td>2.0</td>\n",
              "    </tr>\n",
              "  </tbody>\n",
              "</table>\n",
              "<p>150 rows × 5 columns</p>\n",
              "</div>\n",
              "    <div class=\"colab-df-buttons\">\n",
              "\n",
              "  <div class=\"colab-df-container\">\n",
              "    <button class=\"colab-df-convert\" onclick=\"convertToInteractive('df-4230c29e-7416-4f0a-b7a6-825570998105')\"\n",
              "            title=\"Convert this dataframe to an interactive table.\"\n",
              "            style=\"display:none;\">\n",
              "\n",
              "  <svg xmlns=\"http://www.w3.org/2000/svg\" height=\"24px\" viewBox=\"0 -960 960 960\">\n",
              "    <path d=\"M120-120v-720h720v720H120Zm60-500h600v-160H180v160Zm220 220h160v-160H400v160Zm0 220h160v-160H400v160ZM180-400h160v-160H180v160Zm440 0h160v-160H620v160ZM180-180h160v-160H180v160Zm440 0h160v-160H620v160Z\"/>\n",
              "  </svg>\n",
              "    </button>\n",
              "\n",
              "  <style>\n",
              "    .colab-df-container {\n",
              "      display:flex;\n",
              "      gap: 12px;\n",
              "    }\n",
              "\n",
              "    .colab-df-convert {\n",
              "      background-color: #E8F0FE;\n",
              "      border: none;\n",
              "      border-radius: 50%;\n",
              "      cursor: pointer;\n",
              "      display: none;\n",
              "      fill: #1967D2;\n",
              "      height: 32px;\n",
              "      padding: 0 0 0 0;\n",
              "      width: 32px;\n",
              "    }\n",
              "\n",
              "    .colab-df-convert:hover {\n",
              "      background-color: #E2EBFA;\n",
              "      box-shadow: 0px 1px 2px rgba(60, 64, 67, 0.3), 0px 1px 3px 1px rgba(60, 64, 67, 0.15);\n",
              "      fill: #174EA6;\n",
              "    }\n",
              "\n",
              "    .colab-df-buttons div {\n",
              "      margin-bottom: 4px;\n",
              "    }\n",
              "\n",
              "    [theme=dark] .colab-df-convert {\n",
              "      background-color: #3B4455;\n",
              "      fill: #D2E3FC;\n",
              "    }\n",
              "\n",
              "    [theme=dark] .colab-df-convert:hover {\n",
              "      background-color: #434B5C;\n",
              "      box-shadow: 0px 1px 3px 1px rgba(0, 0, 0, 0.15);\n",
              "      filter: drop-shadow(0px 1px 2px rgba(0, 0, 0, 0.3));\n",
              "      fill: #FFFFFF;\n",
              "    }\n",
              "  </style>\n",
              "\n",
              "    <script>\n",
              "      const buttonEl =\n",
              "        document.querySelector('#df-4230c29e-7416-4f0a-b7a6-825570998105 button.colab-df-convert');\n",
              "      buttonEl.style.display =\n",
              "        google.colab.kernel.accessAllowed ? 'block' : 'none';\n",
              "\n",
              "      async function convertToInteractive(key) {\n",
              "        const element = document.querySelector('#df-4230c29e-7416-4f0a-b7a6-825570998105');\n",
              "        const dataTable =\n",
              "          await google.colab.kernel.invokeFunction('convertToInteractive',\n",
              "                                                    [key], {});\n",
              "        if (!dataTable) return;\n",
              "\n",
              "        const docLinkHtml = 'Like what you see? Visit the ' +\n",
              "          '<a target=\"_blank\" href=https://colab.research.google.com/notebooks/data_table.ipynb>data table notebook</a>'\n",
              "          + ' to learn more about interactive tables.';\n",
              "        element.innerHTML = '';\n",
              "        dataTable['output_type'] = 'display_data';\n",
              "        await google.colab.output.renderOutput(dataTable, element);\n",
              "        const docLink = document.createElement('div');\n",
              "        docLink.innerHTML = docLinkHtml;\n",
              "        element.appendChild(docLink);\n",
              "      }\n",
              "    </script>\n",
              "  </div>\n",
              "\n",
              "\n",
              "<div id=\"df-e4f93c75-21ce-4328-93aa-9e7522aa5c92\">\n",
              "  <button class=\"colab-df-quickchart\" onclick=\"quickchart('df-e4f93c75-21ce-4328-93aa-9e7522aa5c92')\"\n",
              "            title=\"Suggest charts\"\n",
              "            style=\"display:none;\">\n",
              "\n",
              "<svg xmlns=\"http://www.w3.org/2000/svg\" height=\"24px\"viewBox=\"0 0 24 24\"\n",
              "     width=\"24px\">\n",
              "    <g>\n",
              "        <path d=\"M19 3H5c-1.1 0-2 .9-2 2v14c0 1.1.9 2 2 2h14c1.1 0 2-.9 2-2V5c0-1.1-.9-2-2-2zM9 17H7v-7h2v7zm4 0h-2V7h2v10zm4 0h-2v-4h2v4z\"/>\n",
              "    </g>\n",
              "</svg>\n",
              "  </button>\n",
              "\n",
              "<style>\n",
              "  .colab-df-quickchart {\n",
              "      --bg-color: #E8F0FE;\n",
              "      --fill-color: #1967D2;\n",
              "      --hover-bg-color: #E2EBFA;\n",
              "      --hover-fill-color: #174EA6;\n",
              "      --disabled-fill-color: #AAA;\n",
              "      --disabled-bg-color: #DDD;\n",
              "  }\n",
              "\n",
              "  [theme=dark] .colab-df-quickchart {\n",
              "      --bg-color: #3B4455;\n",
              "      --fill-color: #D2E3FC;\n",
              "      --hover-bg-color: #434B5C;\n",
              "      --hover-fill-color: #FFFFFF;\n",
              "      --disabled-bg-color: #3B4455;\n",
              "      --disabled-fill-color: #666;\n",
              "  }\n",
              "\n",
              "  .colab-df-quickchart {\n",
              "    background-color: var(--bg-color);\n",
              "    border: none;\n",
              "    border-radius: 50%;\n",
              "    cursor: pointer;\n",
              "    display: none;\n",
              "    fill: var(--fill-color);\n",
              "    height: 32px;\n",
              "    padding: 0;\n",
              "    width: 32px;\n",
              "  }\n",
              "\n",
              "  .colab-df-quickchart:hover {\n",
              "    background-color: var(--hover-bg-color);\n",
              "    box-shadow: 0 1px 2px rgba(60, 64, 67, 0.3), 0 1px 3px 1px rgba(60, 64, 67, 0.15);\n",
              "    fill: var(--button-hover-fill-color);\n",
              "  }\n",
              "\n",
              "  .colab-df-quickchart-complete:disabled,\n",
              "  .colab-df-quickchart-complete:disabled:hover {\n",
              "    background-color: var(--disabled-bg-color);\n",
              "    fill: var(--disabled-fill-color);\n",
              "    box-shadow: none;\n",
              "  }\n",
              "\n",
              "  .colab-df-spinner {\n",
              "    border: 2px solid var(--fill-color);\n",
              "    border-color: transparent;\n",
              "    border-bottom-color: var(--fill-color);\n",
              "    animation:\n",
              "      spin 1s steps(1) infinite;\n",
              "  }\n",
              "\n",
              "  @keyframes spin {\n",
              "    0% {\n",
              "      border-color: transparent;\n",
              "      border-bottom-color: var(--fill-color);\n",
              "      border-left-color: var(--fill-color);\n",
              "    }\n",
              "    20% {\n",
              "      border-color: transparent;\n",
              "      border-left-color: var(--fill-color);\n",
              "      border-top-color: var(--fill-color);\n",
              "    }\n",
              "    30% {\n",
              "      border-color: transparent;\n",
              "      border-left-color: var(--fill-color);\n",
              "      border-top-color: var(--fill-color);\n",
              "      border-right-color: var(--fill-color);\n",
              "    }\n",
              "    40% {\n",
              "      border-color: transparent;\n",
              "      border-right-color: var(--fill-color);\n",
              "      border-top-color: var(--fill-color);\n",
              "    }\n",
              "    60% {\n",
              "      border-color: transparent;\n",
              "      border-right-color: var(--fill-color);\n",
              "    }\n",
              "    80% {\n",
              "      border-color: transparent;\n",
              "      border-right-color: var(--fill-color);\n",
              "      border-bottom-color: var(--fill-color);\n",
              "    }\n",
              "    90% {\n",
              "      border-color: transparent;\n",
              "      border-bottom-color: var(--fill-color);\n",
              "    }\n",
              "  }\n",
              "</style>\n",
              "\n",
              "  <script>\n",
              "    async function quickchart(key) {\n",
              "      const quickchartButtonEl =\n",
              "        document.querySelector('#' + key + ' button');\n",
              "      quickchartButtonEl.disabled = true;  // To prevent multiple clicks.\n",
              "      quickchartButtonEl.classList.add('colab-df-spinner');\n",
              "      try {\n",
              "        const charts = await google.colab.kernel.invokeFunction(\n",
              "            'suggestCharts', [key], {});\n",
              "      } catch (error) {\n",
              "        console.error('Error during call to suggestCharts:', error);\n",
              "      }\n",
              "      quickchartButtonEl.classList.remove('colab-df-spinner');\n",
              "      quickchartButtonEl.classList.add('colab-df-quickchart-complete');\n",
              "    }\n",
              "    (() => {\n",
              "      let quickchartButtonEl =\n",
              "        document.querySelector('#df-e4f93c75-21ce-4328-93aa-9e7522aa5c92 button');\n",
              "      quickchartButtonEl.style.display =\n",
              "        google.colab.kernel.accessAllowed ? 'block' : 'none';\n",
              "    })();\n",
              "  </script>\n",
              "</div>\n",
              "\n",
              "  <div id=\"id_b18c5db4-8425-4f33-9ed2-bedbf37f5643\">\n",
              "    <style>\n",
              "      .colab-df-generate {\n",
              "        background-color: #E8F0FE;\n",
              "        border: none;\n",
              "        border-radius: 50%;\n",
              "        cursor: pointer;\n",
              "        display: none;\n",
              "        fill: #1967D2;\n",
              "        height: 32px;\n",
              "        padding: 0 0 0 0;\n",
              "        width: 32px;\n",
              "      }\n",
              "\n",
              "      .colab-df-generate:hover {\n",
              "        background-color: #E2EBFA;\n",
              "        box-shadow: 0px 1px 2px rgba(60, 64, 67, 0.3), 0px 1px 3px 1px rgba(60, 64, 67, 0.15);\n",
              "        fill: #174EA6;\n",
              "      }\n",
              "\n",
              "      [theme=dark] .colab-df-generate {\n",
              "        background-color: #3B4455;\n",
              "        fill: #D2E3FC;\n",
              "      }\n",
              "\n",
              "      [theme=dark] .colab-df-generate:hover {\n",
              "        background-color: #434B5C;\n",
              "        box-shadow: 0px 1px 3px 1px rgba(0, 0, 0, 0.15);\n",
              "        filter: drop-shadow(0px 1px 2px rgba(0, 0, 0, 0.3));\n",
              "        fill: #FFFFFF;\n",
              "      }\n",
              "    </style>\n",
              "    <button class=\"colab-df-generate\" onclick=\"generateWithVariable('ds')\"\n",
              "            title=\"Generate code using this dataframe.\"\n",
              "            style=\"display:none;\">\n",
              "\n",
              "  <svg xmlns=\"http://www.w3.org/2000/svg\" height=\"24px\"viewBox=\"0 0 24 24\"\n",
              "       width=\"24px\">\n",
              "    <path d=\"M7,19H8.4L18.45,9,17,7.55,7,17.6ZM5,21V16.75L18.45,3.32a2,2,0,0,1,2.83,0l1.4,1.43a1.91,1.91,0,0,1,.58,1.4,1.91,1.91,0,0,1-.58,1.4L9.25,21ZM18.45,9,17,7.55Zm-12,3A5.31,5.31,0,0,0,4.9,8.1,5.31,5.31,0,0,0,1,6.5,5.31,5.31,0,0,0,4.9,4.9,5.31,5.31,0,0,0,6.5,1,5.31,5.31,0,0,0,8.1,4.9,5.31,5.31,0,0,0,12,6.5,5.46,5.46,0,0,0,6.5,12Z\"/>\n",
              "  </svg>\n",
              "    </button>\n",
              "    <script>\n",
              "      (() => {\n",
              "      const buttonEl =\n",
              "        document.querySelector('#id_b18c5db4-8425-4f33-9ed2-bedbf37f5643 button.colab-df-generate');\n",
              "      buttonEl.style.display =\n",
              "        google.colab.kernel.accessAllowed ? 'block' : 'none';\n",
              "\n",
              "      buttonEl.onclick = () => {\n",
              "        google.colab.notebook.generateWithVariable('ds');\n",
              "      }\n",
              "      })();\n",
              "    </script>\n",
              "  </div>\n",
              "\n",
              "    </div>\n",
              "  </div>\n"
            ]
          },
          "metadata": {},
          "execution_count": 22
        }
      ]
    },
    {
      "cell_type": "markdown",
      "source": [
        "#split data"
      ],
      "metadata": {
        "id": "9wjE7ARQrARp"
      }
    },
    {
      "cell_type": "code",
      "source": [
        "X_train,X_test,y_train,y_test=train_test_split(x,y,test_size=0.1,shuffle=True)"
      ],
      "metadata": {
        "id": "30Q-xeX2rBhZ"
      },
      "execution_count": null,
      "outputs": []
    },
    {
      "cell_type": "code",
      "source": [
        "print(X_train.shape,X_test.shape,y_train.shape,y_test.shape)"
      ],
      "metadata": {
        "colab": {
          "base_uri": "https://localhost:8080/"
        },
        "id": "8WMNs0fFrs_h",
        "outputId": "fe31dd63-4ab6-4b6a-eae2-d0434ce4e9c1"
      },
      "execution_count": null,
      "outputs": [
        {
          "output_type": "stream",
          "name": "stdout",
          "text": [
            "(135, 4) (15, 4) (135,) (15,)\n"
          ]
        }
      ]
    },
    {
      "cell_type": "markdown",
      "source": [
        "#MODELLING"
      ],
      "metadata": {
        "id": "0HtoKnwvsNAh"
      }
    },
    {
      "cell_type": "code",
      "source": [
        "input=tf.keras.Input(shape=4)\n",
        "X=tf.keras.layers.Dense(3,activation=tf.keras.activations.sigmoid)(input)"
      ],
      "metadata": {
        "id": "VkZbnsfRsOdR"
      },
      "execution_count": null,
      "outputs": []
    },
    {
      "cell_type": "code",
      "source": [
        "model=tf.keras.models.Model(input,X)"
      ],
      "metadata": {
        "id": "flSl1yI0tH37"
      },
      "execution_count": null,
      "outputs": []
    },
    {
      "cell_type": "markdown",
      "source": [
        "#compiling model"
      ],
      "metadata": {
        "id": "MTFyzScMt62K"
      }
    },
    {
      "cell_type": "code",
      "source": [
        "model.compile(optimizer=tf.keras.optimizers.SGD(learning_rate=0.01),loss=tf.keras.losses.sparse_categorical_crossentropy,metrics=[\"accuracy\"])"
      ],
      "metadata": {
        "id": "IhyS4iTUt8BZ"
      },
      "execution_count": null,
      "outputs": []
    },
    {
      "cell_type": "code",
      "source": [
        "model.summary()"
      ],
      "metadata": {
        "colab": {
          "base_uri": "https://localhost:8080/"
        },
        "id": "ksJW2ZTCvXoy",
        "outputId": "95b175bd-f7f1-4f0e-9820-ca407fec57d4"
      },
      "execution_count": null,
      "outputs": [
        {
          "output_type": "stream",
          "name": "stdout",
          "text": [
            "Model: \"model\"\n",
            "_________________________________________________________________\n",
            " Layer (type)                Output Shape              Param #   \n",
            "=================================================================\n",
            " input_1 (InputLayer)        [(None, 4)]               0         \n",
            "                                                                 \n",
            " dense (Dense)               (None, 3)                 15        \n",
            "                                                                 \n",
            "=================================================================\n",
            "Total params: 15 (60.00 Byte)\n",
            "Trainable params: 15 (60.00 Byte)\n",
            "Non-trainable params: 0 (0.00 Byte)\n",
            "_________________________________________________________________\n"
          ]
        }
      ]
    },
    {
      "cell_type": "markdown",
      "source": [
        "#training model"
      ],
      "metadata": {
        "id": "_TJr2ZAYwgC5"
      }
    },
    {
      "cell_type": "code",
      "source": [
        "train=model.fit(X_train,y_train.reshape(-1),validation_data=(X_test,y_test.reshape(-1)),epochs=200)"
      ],
      "metadata": {
        "colab": {
          "base_uri": "https://localhost:8080/"
        },
        "id": "BSMJEByswg56",
        "outputId": "0a4bf387-17a0-4966-d360-84c04a5fce36"
      },
      "execution_count": null,
      "outputs": [
        {
          "output_type": "stream",
          "name": "stdout",
          "text": [
            "Epoch 1/200\n",
            "5/5 [==============================] - 1s 63ms/step - loss: 3.3462 - accuracy: 0.3185 - val_loss: 2.4183 - val_accuracy: 0.4000\n",
            "Epoch 2/200\n",
            "5/5 [==============================] - 0s 10ms/step - loss: 2.8124 - accuracy: 0.3852 - val_loss: 2.1537 - val_accuracy: 0.6667\n",
            "Epoch 3/200\n",
            "5/5 [==============================] - 0s 10ms/step - loss: 2.4993 - accuracy: 0.4000 - val_loss: 1.8907 - val_accuracy: 0.5333\n",
            "Epoch 4/200\n",
            "5/5 [==============================] - 0s 9ms/step - loss: 2.1451 - accuracy: 0.4296 - val_loss: 1.5712 - val_accuracy: 0.6000\n",
            "Epoch 5/200\n",
            "5/5 [==============================] - 0s 14ms/step - loss: 1.7515 - accuracy: 0.4370 - val_loss: 1.3538 - val_accuracy: 0.5333\n",
            "Epoch 6/200\n",
            "5/5 [==============================] - 0s 9ms/step - loss: 1.4659 - accuracy: 0.4222 - val_loss: 1.0945 - val_accuracy: 0.6000\n",
            "Epoch 7/200\n",
            "5/5 [==============================] - 0s 15ms/step - loss: 1.1596 - accuracy: 0.4148 - val_loss: 0.8852 - val_accuracy: 0.6667\n",
            "Epoch 8/200\n",
            "5/5 [==============================] - 0s 9ms/step - loss: 0.9128 - accuracy: 0.4519 - val_loss: 0.7398 - val_accuracy: 0.5333\n",
            "Epoch 9/200\n",
            "5/5 [==============================] - 0s 14ms/step - loss: 0.7515 - accuracy: 0.7185 - val_loss: 0.6610 - val_accuracy: 0.6667\n",
            "Epoch 10/200\n",
            "5/5 [==============================] - 0s 10ms/step - loss: 0.6583 - accuracy: 0.7259 - val_loss: 0.6213 - val_accuracy: 0.6667\n",
            "Epoch 11/200\n",
            "5/5 [==============================] - 0s 9ms/step - loss: 0.6177 - accuracy: 0.7704 - val_loss: 0.6004 - val_accuracy: 0.7333\n",
            "Epoch 12/200\n",
            "5/5 [==============================] - 0s 14ms/step - loss: 0.5979 - accuracy: 0.7704 - val_loss: 0.5986 - val_accuracy: 0.6667\n",
            "Epoch 13/200\n",
            "5/5 [==============================] - 0s 9ms/step - loss: 0.5894 - accuracy: 0.7778 - val_loss: 0.5866 - val_accuracy: 0.8000\n",
            "Epoch 14/200\n",
            "5/5 [==============================] - 0s 9ms/step - loss: 0.5915 - accuracy: 0.7556 - val_loss: 0.5801 - val_accuracy: 0.9333\n",
            "Epoch 15/200\n",
            "5/5 [==============================] - 0s 13ms/step - loss: 0.5811 - accuracy: 0.7926 - val_loss: 0.5828 - val_accuracy: 0.7333\n",
            "Epoch 16/200\n",
            "5/5 [==============================] - 0s 9ms/step - loss: 0.5735 - accuracy: 0.7778 - val_loss: 0.5722 - val_accuracy: 0.9333\n",
            "Epoch 17/200\n",
            "5/5 [==============================] - 0s 10ms/step - loss: 0.5709 - accuracy: 0.7852 - val_loss: 0.6102 - val_accuracy: 0.6000\n",
            "Epoch 18/200\n",
            "5/5 [==============================] - 0s 14ms/step - loss: 0.5757 - accuracy: 0.7259 - val_loss: 0.5747 - val_accuracy: 0.6667\n",
            "Epoch 19/200\n",
            "5/5 [==============================] - 0s 9ms/step - loss: 0.5578 - accuracy: 0.7630 - val_loss: 0.5632 - val_accuracy: 0.8000\n",
            "Epoch 20/200\n",
            "5/5 [==============================] - 0s 9ms/step - loss: 0.5542 - accuracy: 0.8000 - val_loss: 0.5605 - val_accuracy: 0.8000\n",
            "Epoch 21/200\n",
            "5/5 [==============================] - 0s 13ms/step - loss: 0.5495 - accuracy: 0.8148 - val_loss: 0.5548 - val_accuracy: 0.8000\n",
            "Epoch 22/200\n",
            "5/5 [==============================] - 0s 10ms/step - loss: 0.5445 - accuracy: 0.8000 - val_loss: 0.5488 - val_accuracy: 0.9333\n",
            "Epoch 23/200\n",
            "5/5 [==============================] - 0s 10ms/step - loss: 0.5411 - accuracy: 0.8074 - val_loss: 0.5540 - val_accuracy: 0.7333\n",
            "Epoch 24/200\n",
            "5/5 [==============================] - 0s 12ms/step - loss: 0.5385 - accuracy: 0.8000 - val_loss: 0.5431 - val_accuracy: 0.9333\n",
            "Epoch 25/200\n",
            "5/5 [==============================] - 0s 14ms/step - loss: 0.5387 - accuracy: 0.8370 - val_loss: 0.5488 - val_accuracy: 0.7333\n",
            "Epoch 26/200\n",
            "5/5 [==============================] - 0s 10ms/step - loss: 0.5321 - accuracy: 0.8148 - val_loss: 0.5357 - val_accuracy: 0.9333\n",
            "Epoch 27/200\n",
            "5/5 [==============================] - 0s 9ms/step - loss: 0.5290 - accuracy: 0.8370 - val_loss: 0.5365 - val_accuracy: 0.8000\n",
            "Epoch 28/200\n",
            "5/5 [==============================] - 0s 13ms/step - loss: 0.5256 - accuracy: 0.8148 - val_loss: 0.5296 - val_accuracy: 0.9333\n",
            "Epoch 29/200\n",
            "5/5 [==============================] - 0s 9ms/step - loss: 0.5254 - accuracy: 0.8074 - val_loss: 0.5259 - val_accuracy: 0.9333\n",
            "Epoch 30/200\n",
            "5/5 [==============================] - 0s 9ms/step - loss: 0.5222 - accuracy: 0.8222 - val_loss: 0.5241 - val_accuracy: 0.8000\n",
            "Epoch 31/200\n",
            "5/5 [==============================] - 0s 13ms/step - loss: 0.5183 - accuracy: 0.8000 - val_loss: 0.5361 - val_accuracy: 0.7333\n",
            "Epoch 32/200\n",
            "5/5 [==============================] - 0s 10ms/step - loss: 0.5164 - accuracy: 0.8000 - val_loss: 0.5227 - val_accuracy: 0.7333\n",
            "Epoch 33/200\n",
            "5/5 [==============================] - 0s 10ms/step - loss: 0.5113 - accuracy: 0.8444 - val_loss: 0.5147 - val_accuracy: 0.9333\n",
            "Epoch 34/200\n",
            "5/5 [==============================] - 0s 11ms/step - loss: 0.5077 - accuracy: 0.8222 - val_loss: 0.5157 - val_accuracy: 0.8000\n",
            "Epoch 35/200\n",
            "5/5 [==============================] - 0s 9ms/step - loss: 0.5044 - accuracy: 0.8148 - val_loss: 0.5146 - val_accuracy: 0.8000\n",
            "Epoch 36/200\n",
            "5/5 [==============================] - 0s 10ms/step - loss: 0.5053 - accuracy: 0.8074 - val_loss: 0.5294 - val_accuracy: 0.7333\n",
            "Epoch 37/200\n",
            "5/5 [==============================] - 0s 9ms/step - loss: 0.5056 - accuracy: 0.8074 - val_loss: 0.5411 - val_accuracy: 0.6000\n",
            "Epoch 38/200\n",
            "5/5 [==============================] - 0s 9ms/step - loss: 0.5074 - accuracy: 0.7481 - val_loss: 0.5109 - val_accuracy: 0.8000\n",
            "Epoch 39/200\n",
            "5/5 [==============================] - 0s 14ms/step - loss: 0.4987 - accuracy: 0.8296 - val_loss: 0.5251 - val_accuracy: 0.7333\n",
            "Epoch 40/200\n",
            "5/5 [==============================] - 0s 9ms/step - loss: 0.4991 - accuracy: 0.8148 - val_loss: 0.5106 - val_accuracy: 0.8000\n",
            "Epoch 41/200\n",
            "5/5 [==============================] - 0s 10ms/step - loss: 0.4912 - accuracy: 0.8296 - val_loss: 0.4973 - val_accuracy: 0.8667\n",
            "Epoch 42/200\n",
            "5/5 [==============================] - 0s 9ms/step - loss: 0.4905 - accuracy: 0.8370 - val_loss: 0.5266 - val_accuracy: 0.6000\n",
            "Epoch 43/200\n",
            "5/5 [==============================] - 0s 13ms/step - loss: 0.4937 - accuracy: 0.7556 - val_loss: 0.4927 - val_accuracy: 0.8667\n",
            "Epoch 44/200\n",
            "5/5 [==============================] - 0s 9ms/step - loss: 0.4853 - accuracy: 0.8444 - val_loss: 0.4988 - val_accuracy: 0.8000\n",
            "Epoch 45/200\n",
            "5/5 [==============================] - 0s 14ms/step - loss: 0.4824 - accuracy: 0.8370 - val_loss: 0.4887 - val_accuracy: 0.8667\n",
            "Epoch 46/200\n",
            "5/5 [==============================] - 0s 10ms/step - loss: 0.4801 - accuracy: 0.8444 - val_loss: 0.4851 - val_accuracy: 0.9333\n",
            "Epoch 47/200\n",
            "5/5 [==============================] - 0s 9ms/step - loss: 0.4797 - accuracy: 0.8444 - val_loss: 0.4974 - val_accuracy: 0.8000\n",
            "Epoch 48/200\n",
            "5/5 [==============================] - 0s 14ms/step - loss: 0.4801 - accuracy: 0.8296 - val_loss: 0.5119 - val_accuracy: 0.7333\n",
            "Epoch 49/200\n",
            "5/5 [==============================] - 0s 9ms/step - loss: 0.4841 - accuracy: 0.7630 - val_loss: 0.4799 - val_accuracy: 0.9333\n",
            "Epoch 50/200\n",
            "5/5 [==============================] - 0s 9ms/step - loss: 0.4730 - accuracy: 0.8519 - val_loss: 0.4780 - val_accuracy: 0.9333\n",
            "Epoch 51/200\n",
            "5/5 [==============================] - 0s 14ms/step - loss: 0.4734 - accuracy: 0.8667 - val_loss: 0.4912 - val_accuracy: 0.8000\n",
            "Epoch 52/200\n",
            "5/5 [==============================] - 0s 9ms/step - loss: 0.4736 - accuracy: 0.8370 - val_loss: 0.5161 - val_accuracy: 0.6000\n",
            "Epoch 53/200\n",
            "5/5 [==============================] - 0s 10ms/step - loss: 0.4777 - accuracy: 0.7778 - val_loss: 0.4789 - val_accuracy: 0.8667\n",
            "Epoch 54/200\n",
            "5/5 [==============================] - 0s 9ms/step - loss: 0.4650 - accuracy: 0.8370 - val_loss: 0.4745 - val_accuracy: 0.8667\n",
            "Epoch 55/200\n",
            "5/5 [==============================] - 0s 14ms/step - loss: 0.4660 - accuracy: 0.8370 - val_loss: 0.4708 - val_accuracy: 0.9333\n",
            "Epoch 56/200\n",
            "5/5 [==============================] - 0s 10ms/step - loss: 0.4691 - accuracy: 0.8519 - val_loss: 0.4680 - val_accuracy: 0.9333\n",
            "Epoch 57/200\n",
            "5/5 [==============================] - 0s 10ms/step - loss: 0.4639 - accuracy: 0.8444 - val_loss: 0.4654 - val_accuracy: 0.9333\n",
            "Epoch 58/200\n",
            "5/5 [==============================] - 0s 9ms/step - loss: 0.4615 - accuracy: 0.8593 - val_loss: 0.4667 - val_accuracy: 0.8667\n",
            "Epoch 59/200\n",
            "5/5 [==============================] - 0s 9ms/step - loss: 0.4560 - accuracy: 0.8519 - val_loss: 0.4757 - val_accuracy: 0.8000\n",
            "Epoch 60/200\n",
            "5/5 [==============================] - 0s 14ms/step - loss: 0.4570 - accuracy: 0.8296 - val_loss: 0.4663 - val_accuracy: 0.8667\n",
            "Epoch 61/200\n",
            "5/5 [==============================] - 0s 10ms/step - loss: 0.4538 - accuracy: 0.8370 - val_loss: 0.4650 - val_accuracy: 0.8667\n",
            "Epoch 62/200\n",
            "5/5 [==============================] - 0s 9ms/step - loss: 0.4538 - accuracy: 0.8370 - val_loss: 0.4764 - val_accuracy: 0.8000\n",
            "Epoch 63/200\n",
            "5/5 [==============================] - 0s 12ms/step - loss: 0.4537 - accuracy: 0.8519 - val_loss: 0.4649 - val_accuracy: 0.8000\n",
            "Epoch 64/200\n",
            "5/5 [==============================] - 0s 9ms/step - loss: 0.4612 - accuracy: 0.8444 - val_loss: 0.4625 - val_accuracy: 0.8000\n",
            "Epoch 65/200\n",
            "5/5 [==============================] - 0s 9ms/step - loss: 0.4485 - accuracy: 0.8519 - val_loss: 0.4582 - val_accuracy: 0.8667\n",
            "Epoch 66/200\n",
            "5/5 [==============================] - 0s 9ms/step - loss: 0.4489 - accuracy: 0.8667 - val_loss: 0.4513 - val_accuracy: 0.9333\n",
            "Epoch 67/200\n",
            "5/5 [==============================] - 0s 9ms/step - loss: 0.4469 - accuracy: 0.8889 - val_loss: 0.4575 - val_accuracy: 0.8667\n",
            "Epoch 68/200\n",
            "5/5 [==============================] - 0s 10ms/step - loss: 0.4441 - accuracy: 0.8519 - val_loss: 0.4561 - val_accuracy: 0.8667\n",
            "Epoch 69/200\n",
            "5/5 [==============================] - 0s 9ms/step - loss: 0.4421 - accuracy: 0.8593 - val_loss: 0.4533 - val_accuracy: 0.8667\n",
            "Epoch 70/200\n",
            "5/5 [==============================] - 0s 10ms/step - loss: 0.4424 - accuracy: 0.8815 - val_loss: 0.4515 - val_accuracy: 0.9333\n",
            "Epoch 71/200\n",
            "5/5 [==============================] - 0s 10ms/step - loss: 0.4387 - accuracy: 0.8741 - val_loss: 0.4503 - val_accuracy: 0.9333\n",
            "Epoch 72/200\n",
            "5/5 [==============================] - 0s 9ms/step - loss: 0.4395 - accuracy: 0.8593 - val_loss: 0.4427 - val_accuracy: 0.9333\n",
            "Epoch 73/200\n",
            "5/5 [==============================] - 0s 10ms/step - loss: 0.4378 - accuracy: 0.8815 - val_loss: 0.4435 - val_accuracy: 0.9333\n",
            "Epoch 74/200\n",
            "5/5 [==============================] - 0s 9ms/step - loss: 0.4356 - accuracy: 0.8815 - val_loss: 0.4440 - val_accuracy: 0.9333\n",
            "Epoch 75/200\n",
            "5/5 [==============================] - 0s 9ms/step - loss: 0.4346 - accuracy: 0.8667 - val_loss: 0.4481 - val_accuracy: 0.8667\n",
            "Epoch 76/200\n",
            "5/5 [==============================] - 0s 9ms/step - loss: 0.4333 - accuracy: 0.8444 - val_loss: 0.4395 - val_accuracy: 0.9333\n",
            "Epoch 77/200\n",
            "5/5 [==============================] - 0s 9ms/step - loss: 0.4318 - accuracy: 0.8889 - val_loss: 0.4369 - val_accuracy: 0.9333\n",
            "Epoch 78/200\n",
            "5/5 [==============================] - 0s 14ms/step - loss: 0.4333 - accuracy: 0.8593 - val_loss: 0.4350 - val_accuracy: 0.9333\n",
            "Epoch 79/200\n",
            "5/5 [==============================] - 0s 9ms/step - loss: 0.4313 - accuracy: 0.8889 - val_loss: 0.4425 - val_accuracy: 0.8667\n",
            "Epoch 80/200\n",
            "5/5 [==============================] - 0s 9ms/step - loss: 0.4299 - accuracy: 0.8667 - val_loss: 0.4344 - val_accuracy: 0.9333\n",
            "Epoch 81/200\n",
            "5/5 [==============================] - 0s 14ms/step - loss: 0.4312 - accuracy: 0.8667 - val_loss: 0.4335 - val_accuracy: 0.9333\n",
            "Epoch 82/200\n",
            "5/5 [==============================] - 0s 10ms/step - loss: 0.4252 - accuracy: 0.8963 - val_loss: 0.4337 - val_accuracy: 0.9333\n",
            "Epoch 83/200\n",
            "5/5 [==============================] - 0s 20ms/step - loss: 0.4255 - accuracy: 0.8667 - val_loss: 0.4318 - val_accuracy: 0.9333\n",
            "Epoch 84/200\n",
            "5/5 [==============================] - 0s 14ms/step - loss: 0.4253 - accuracy: 0.8667 - val_loss: 0.4298 - val_accuracy: 0.9333\n",
            "Epoch 85/200\n",
            "5/5 [==============================] - 0s 14ms/step - loss: 0.4245 - accuracy: 0.8741 - val_loss: 0.4290 - val_accuracy: 0.9333\n",
            "Epoch 86/200\n",
            "5/5 [==============================] - 0s 17ms/step - loss: 0.4208 - accuracy: 0.8963 - val_loss: 0.4284 - val_accuracy: 0.9333\n",
            "Epoch 87/200\n",
            "5/5 [==============================] - 0s 19ms/step - loss: 0.4201 - accuracy: 0.8963 - val_loss: 0.4327 - val_accuracy: 0.8667\n",
            "Epoch 88/200\n",
            "5/5 [==============================] - 0s 14ms/step - loss: 0.4187 - accuracy: 0.8593 - val_loss: 0.4246 - val_accuracy: 1.0000\n",
            "Epoch 89/200\n",
            "5/5 [==============================] - 0s 14ms/step - loss: 0.4178 - accuracy: 0.8889 - val_loss: 0.4352 - val_accuracy: 0.8000\n",
            "Epoch 90/200\n",
            "5/5 [==============================] - 0s 16ms/step - loss: 0.4192 - accuracy: 0.8519 - val_loss: 0.4342 - val_accuracy: 0.8000\n",
            "Epoch 91/200\n",
            "5/5 [==============================] - 0s 20ms/step - loss: 0.4191 - accuracy: 0.8667 - val_loss: 0.4228 - val_accuracy: 0.9333\n",
            "Epoch 92/200\n",
            "5/5 [==============================] - 0s 17ms/step - loss: 0.4165 - accuracy: 0.8889 - val_loss: 0.4234 - val_accuracy: 0.9333\n",
            "Epoch 93/200\n",
            "5/5 [==============================] - 0s 20ms/step - loss: 0.4140 - accuracy: 0.8815 - val_loss: 0.4188 - val_accuracy: 1.0000\n",
            "Epoch 94/200\n",
            "5/5 [==============================] - 0s 18ms/step - loss: 0.4119 - accuracy: 0.8963 - val_loss: 0.4246 - val_accuracy: 0.9333\n",
            "Epoch 95/200\n",
            "5/5 [==============================] - 0s 19ms/step - loss: 0.4148 - accuracy: 0.8741 - val_loss: 0.4193 - val_accuracy: 0.9333\n",
            "Epoch 96/200\n",
            "5/5 [==============================] - 0s 22ms/step - loss: 0.4107 - accuracy: 0.8963 - val_loss: 0.4179 - val_accuracy: 0.9333\n",
            "Epoch 97/200\n",
            "5/5 [==============================] - 0s 19ms/step - loss: 0.4093 - accuracy: 0.8889 - val_loss: 0.4196 - val_accuracy: 0.9333\n",
            "Epoch 98/200\n",
            "5/5 [==============================] - 0s 14ms/step - loss: 0.4093 - accuracy: 0.8889 - val_loss: 0.4175 - val_accuracy: 0.9333\n",
            "Epoch 99/200\n",
            "5/5 [==============================] - 0s 17ms/step - loss: 0.4089 - accuracy: 0.8889 - val_loss: 0.4112 - val_accuracy: 1.0000\n",
            "Epoch 100/200\n",
            "5/5 [==============================] - 0s 20ms/step - loss: 0.4060 - accuracy: 0.9111 - val_loss: 0.4093 - val_accuracy: 0.9333\n",
            "Epoch 101/200\n",
            "5/5 [==============================] - 0s 13ms/step - loss: 0.4082 - accuracy: 0.8963 - val_loss: 0.4167 - val_accuracy: 0.9333\n",
            "Epoch 102/200\n",
            "5/5 [==============================] - 0s 14ms/step - loss: 0.4056 - accuracy: 0.8815 - val_loss: 0.4139 - val_accuracy: 0.9333\n",
            "Epoch 103/200\n",
            "5/5 [==============================] - 0s 18ms/step - loss: 0.4055 - accuracy: 0.8889 - val_loss: 0.4148 - val_accuracy: 0.9333\n",
            "Epoch 104/200\n",
            "5/5 [==============================] - 0s 14ms/step - loss: 0.4032 - accuracy: 0.8889 - val_loss: 0.4057 - val_accuracy: 0.9333\n",
            "Epoch 105/200\n",
            "5/5 [==============================] - 0s 18ms/step - loss: 0.4015 - accuracy: 0.9111 - val_loss: 0.4045 - val_accuracy: 0.9333\n",
            "Epoch 106/200\n",
            "5/5 [==============================] - 0s 17ms/step - loss: 0.4017 - accuracy: 0.9185 - val_loss: 0.4077 - val_accuracy: 0.9333\n",
            "Epoch 107/200\n",
            "5/5 [==============================] - 0s 17ms/step - loss: 0.4001 - accuracy: 0.9185 - val_loss: 0.4026 - val_accuracy: 1.0000\n",
            "Epoch 108/200\n",
            "5/5 [==============================] - 0s 19ms/step - loss: 0.4001 - accuracy: 0.9111 - val_loss: 0.4085 - val_accuracy: 0.9333\n",
            "Epoch 109/200\n",
            "5/5 [==============================] - 0s 18ms/step - loss: 0.3997 - accuracy: 0.8815 - val_loss: 0.4043 - val_accuracy: 0.9333\n",
            "Epoch 110/200\n",
            "5/5 [==============================] - 0s 18ms/step - loss: 0.3983 - accuracy: 0.9037 - val_loss: 0.4082 - val_accuracy: 0.9333\n",
            "Epoch 111/200\n",
            "5/5 [==============================] - 0s 20ms/step - loss: 0.3976 - accuracy: 0.9111 - val_loss: 0.4008 - val_accuracy: 1.0000\n",
            "Epoch 112/200\n",
            "5/5 [==============================] - 0s 17ms/step - loss: 0.3949 - accuracy: 0.9185 - val_loss: 0.3984 - val_accuracy: 0.9333\n",
            "Epoch 113/200\n",
            "5/5 [==============================] - 0s 14ms/step - loss: 0.3964 - accuracy: 0.9037 - val_loss: 0.4009 - val_accuracy: 0.9333\n",
            "Epoch 114/200\n",
            "5/5 [==============================] - 0s 16ms/step - loss: 0.4029 - accuracy: 0.8963 - val_loss: 0.4002 - val_accuracy: 0.9333\n",
            "Epoch 115/200\n",
            "5/5 [==============================] - 0s 15ms/step - loss: 0.3918 - accuracy: 0.9037 - val_loss: 0.3954 - val_accuracy: 0.9333\n",
            "Epoch 116/200\n",
            "5/5 [==============================] - 0s 18ms/step - loss: 0.3938 - accuracy: 0.9259 - val_loss: 0.3939 - val_accuracy: 0.9333\n",
            "Epoch 117/200\n",
            "5/5 [==============================] - 0s 17ms/step - loss: 0.3925 - accuracy: 0.9185 - val_loss: 0.3932 - val_accuracy: 0.9333\n",
            "Epoch 118/200\n",
            "5/5 [==============================] - 0s 17ms/step - loss: 0.3922 - accuracy: 0.9111 - val_loss: 0.3936 - val_accuracy: 1.0000\n",
            "Epoch 119/200\n",
            "5/5 [==============================] - 0s 14ms/step - loss: 0.3896 - accuracy: 0.9259 - val_loss: 0.3912 - val_accuracy: 1.0000\n",
            "Epoch 120/200\n",
            "5/5 [==============================] - 0s 14ms/step - loss: 0.3928 - accuracy: 0.9111 - val_loss: 0.3904 - val_accuracy: 0.9333\n",
            "Epoch 121/200\n",
            "5/5 [==============================] - 0s 16ms/step - loss: 0.3880 - accuracy: 0.9333 - val_loss: 0.3908 - val_accuracy: 1.0000\n",
            "Epoch 122/200\n",
            "5/5 [==============================] - 0s 17ms/step - loss: 0.3897 - accuracy: 0.9111 - val_loss: 0.3929 - val_accuracy: 0.9333\n",
            "Epoch 123/200\n",
            "5/5 [==============================] - 0s 21ms/step - loss: 0.3859 - accuracy: 0.9185 - val_loss: 0.3880 - val_accuracy: 1.0000\n",
            "Epoch 124/200\n",
            "5/5 [==============================] - 0s 17ms/step - loss: 0.3853 - accuracy: 0.9259 - val_loss: 0.3869 - val_accuracy: 0.9333\n",
            "Epoch 125/200\n",
            "5/5 [==============================] - 0s 19ms/step - loss: 0.3877 - accuracy: 0.9111 - val_loss: 0.3904 - val_accuracy: 0.9333\n",
            "Epoch 126/200\n",
            "5/5 [==============================] - 0s 10ms/step - loss: 0.3842 - accuracy: 0.9185 - val_loss: 0.3855 - val_accuracy: 0.9333\n",
            "Epoch 127/200\n",
            "5/5 [==============================] - 0s 10ms/step - loss: 0.3839 - accuracy: 0.9185 - val_loss: 0.3844 - val_accuracy: 0.9333\n",
            "Epoch 128/200\n",
            "5/5 [==============================] - 0s 15ms/step - loss: 0.3842 - accuracy: 0.9185 - val_loss: 0.3836 - val_accuracy: 1.0000\n",
            "Epoch 129/200\n",
            "5/5 [==============================] - 0s 9ms/step - loss: 0.3816 - accuracy: 0.9259 - val_loss: 0.3827 - val_accuracy: 0.9333\n",
            "Epoch 130/200\n",
            "5/5 [==============================] - 0s 9ms/step - loss: 0.3820 - accuracy: 0.9259 - val_loss: 0.3819 - val_accuracy: 1.0000\n",
            "Epoch 131/200\n",
            "5/5 [==============================] - 0s 9ms/step - loss: 0.3799 - accuracy: 0.9259 - val_loss: 0.3826 - val_accuracy: 1.0000\n",
            "Epoch 132/200\n",
            "5/5 [==============================] - 0s 9ms/step - loss: 0.3786 - accuracy: 0.9259 - val_loss: 0.3801 - val_accuracy: 0.9333\n",
            "Epoch 133/200\n",
            "5/5 [==============================] - 0s 10ms/step - loss: 0.3804 - accuracy: 0.9259 - val_loss: 0.3800 - val_accuracy: 1.0000\n",
            "Epoch 134/200\n",
            "5/5 [==============================] - 0s 10ms/step - loss: 0.3778 - accuracy: 0.9333 - val_loss: 0.3805 - val_accuracy: 1.0000\n",
            "Epoch 135/200\n",
            "5/5 [==============================] - 0s 11ms/step - loss: 0.3768 - accuracy: 0.9185 - val_loss: 0.3783 - val_accuracy: 1.0000\n",
            "Epoch 136/200\n",
            "5/5 [==============================] - 0s 10ms/step - loss: 0.3755 - accuracy: 0.9185 - val_loss: 0.3769 - val_accuracy: 1.0000\n",
            "Epoch 137/200\n",
            "5/5 [==============================] - 0s 14ms/step - loss: 0.3746 - accuracy: 0.9333 - val_loss: 0.3770 - val_accuracy: 1.0000\n",
            "Epoch 138/200\n",
            "5/5 [==============================] - 0s 10ms/step - loss: 0.3736 - accuracy: 0.9259 - val_loss: 0.3752 - val_accuracy: 1.0000\n",
            "Epoch 139/200\n",
            "5/5 [==============================] - 0s 9ms/step - loss: 0.3768 - accuracy: 0.9111 - val_loss: 0.3765 - val_accuracy: 0.9333\n",
            "Epoch 140/200\n",
            "5/5 [==============================] - 0s 9ms/step - loss: 0.3749 - accuracy: 0.9259 - val_loss: 0.3744 - val_accuracy: 1.0000\n",
            "Epoch 141/200\n",
            "5/5 [==============================] - 0s 41ms/step - loss: 0.3743 - accuracy: 0.9259 - val_loss: 0.3735 - val_accuracy: 1.0000\n",
            "Epoch 142/200\n",
            "5/5 [==============================] - 0s 19ms/step - loss: 0.3727 - accuracy: 0.9185 - val_loss: 0.3721 - val_accuracy: 1.0000\n",
            "Epoch 143/200\n",
            "5/5 [==============================] - 0s 10ms/step - loss: 0.3711 - accuracy: 0.9259 - val_loss: 0.3728 - val_accuracy: 0.9333\n",
            "Epoch 144/200\n",
            "5/5 [==============================] - 0s 9ms/step - loss: 0.3716 - accuracy: 0.9333 - val_loss: 0.3722 - val_accuracy: 1.0000\n",
            "Epoch 145/200\n",
            "5/5 [==============================] - 0s 11ms/step - loss: 0.3735 - accuracy: 0.9259 - val_loss: 0.3717 - val_accuracy: 1.0000\n",
            "Epoch 146/200\n",
            "5/5 [==============================] - 0s 9ms/step - loss: 0.3713 - accuracy: 0.9185 - val_loss: 0.3696 - val_accuracy: 1.0000\n",
            "Epoch 147/200\n",
            "5/5 [==============================] - 0s 14ms/step - loss: 0.3699 - accuracy: 0.9185 - val_loss: 0.3687 - val_accuracy: 1.0000\n",
            "Epoch 148/200\n",
            "5/5 [==============================] - 0s 10ms/step - loss: 0.3673 - accuracy: 0.9259 - val_loss: 0.3681 - val_accuracy: 1.0000\n",
            "Epoch 149/200\n",
            "5/5 [==============================] - 0s 9ms/step - loss: 0.3722 - accuracy: 0.9333 - val_loss: 0.3688 - val_accuracy: 0.9333\n",
            "Epoch 150/200\n",
            "5/5 [==============================] - 0s 11ms/step - loss: 0.3709 - accuracy: 0.9259 - val_loss: 0.3670 - val_accuracy: 0.9333\n",
            "Epoch 151/200\n",
            "5/5 [==============================] - 0s 9ms/step - loss: 0.3664 - accuracy: 0.9259 - val_loss: 0.3662 - val_accuracy: 1.0000\n",
            "Epoch 152/200\n",
            "5/5 [==============================] - 0s 9ms/step - loss: 0.3667 - accuracy: 0.9333 - val_loss: 0.3677 - val_accuracy: 1.0000\n",
            "Epoch 153/200\n",
            "5/5 [==============================] - 0s 10ms/step - loss: 0.3658 - accuracy: 0.9259 - val_loss: 0.3726 - val_accuracy: 0.9333\n",
            "Epoch 154/200\n",
            "5/5 [==============================] - 0s 9ms/step - loss: 0.3640 - accuracy: 0.9407 - val_loss: 0.3718 - val_accuracy: 0.9333\n",
            "Epoch 155/200\n",
            "5/5 [==============================] - 0s 10ms/step - loss: 0.3665 - accuracy: 0.9037 - val_loss: 0.3667 - val_accuracy: 1.0000\n",
            "Epoch 156/200\n",
            "5/5 [==============================] - 0s 9ms/step - loss: 0.3618 - accuracy: 0.9333 - val_loss: 0.3624 - val_accuracy: 1.0000\n",
            "Epoch 157/200\n",
            "5/5 [==============================] - 0s 9ms/step - loss: 0.3618 - accuracy: 0.9259 - val_loss: 0.3670 - val_accuracy: 0.9333\n",
            "Epoch 158/200\n",
            "5/5 [==============================] - 0s 13ms/step - loss: 0.3612 - accuracy: 0.9259 - val_loss: 0.3651 - val_accuracy: 0.9333\n",
            "Epoch 159/200\n",
            "5/5 [==============================] - 0s 10ms/step - loss: 0.3619 - accuracy: 0.9259 - val_loss: 0.3609 - val_accuracy: 1.0000\n",
            "Epoch 160/200\n",
            "5/5 [==============================] - 0s 11ms/step - loss: 0.3596 - accuracy: 0.9185 - val_loss: 0.3608 - val_accuracy: 1.0000\n",
            "Epoch 161/200\n",
            "5/5 [==============================] - 0s 11ms/step - loss: 0.3630 - accuracy: 0.9259 - val_loss: 0.3636 - val_accuracy: 0.9333\n",
            "Epoch 162/200\n",
            "5/5 [==============================] - 0s 16ms/step - loss: 0.3580 - accuracy: 0.9333 - val_loss: 0.3615 - val_accuracy: 1.0000\n",
            "Epoch 163/200\n",
            "5/5 [==============================] - 0s 17ms/step - loss: 0.3587 - accuracy: 0.9333 - val_loss: 0.3581 - val_accuracy: 1.0000\n",
            "Epoch 164/200\n",
            "5/5 [==============================] - 0s 12ms/step - loss: 0.3580 - accuracy: 0.9333 - val_loss: 0.3579 - val_accuracy: 0.9333\n",
            "Epoch 165/200\n",
            "5/5 [==============================] - 0s 11ms/step - loss: 0.3592 - accuracy: 0.9333 - val_loss: 0.3614 - val_accuracy: 0.9333\n",
            "Epoch 166/200\n",
            "5/5 [==============================] - 0s 11ms/step - loss: 0.3556 - accuracy: 0.9407 - val_loss: 0.3656 - val_accuracy: 0.9333\n",
            "Epoch 167/200\n",
            "5/5 [==============================] - 0s 16ms/step - loss: 0.3569 - accuracy: 0.9407 - val_loss: 0.3576 - val_accuracy: 1.0000\n",
            "Epoch 168/200\n",
            "5/5 [==============================] - 0s 14ms/step - loss: 0.3556 - accuracy: 0.9185 - val_loss: 0.3547 - val_accuracy: 1.0000\n",
            "Epoch 169/200\n",
            "5/5 [==============================] - 0s 11ms/step - loss: 0.3544 - accuracy: 0.9333 - val_loss: 0.3580 - val_accuracy: 1.0000\n",
            "Epoch 170/200\n",
            "5/5 [==============================] - 0s 10ms/step - loss: 0.3539 - accuracy: 0.9333 - val_loss: 0.3564 - val_accuracy: 1.0000\n",
            "Epoch 171/200\n",
            "5/5 [==============================] - 0s 15ms/step - loss: 0.3516 - accuracy: 0.9333 - val_loss: 0.3527 - val_accuracy: 1.0000\n",
            "Epoch 172/200\n",
            "5/5 [==============================] - 0s 11ms/step - loss: 0.3518 - accuracy: 0.9333 - val_loss: 0.3722 - val_accuracy: 0.9333\n",
            "Epoch 173/200\n",
            "5/5 [==============================] - 0s 11ms/step - loss: 0.3580 - accuracy: 0.9111 - val_loss: 0.3615 - val_accuracy: 0.9333\n",
            "Epoch 174/200\n",
            "5/5 [==============================] - 0s 15ms/step - loss: 0.3545 - accuracy: 0.9037 - val_loss: 0.3517 - val_accuracy: 1.0000\n",
            "Epoch 175/200\n",
            "5/5 [==============================] - 0s 13ms/step - loss: 0.3498 - accuracy: 0.9407 - val_loss: 0.3494 - val_accuracy: 1.0000\n",
            "Epoch 176/200\n",
            "5/5 [==============================] - 0s 10ms/step - loss: 0.3497 - accuracy: 0.9407 - val_loss: 0.3535 - val_accuracy: 1.0000\n",
            "Epoch 177/200\n",
            "5/5 [==============================] - 0s 11ms/step - loss: 0.3482 - accuracy: 0.9333 - val_loss: 0.3495 - val_accuracy: 1.0000\n",
            "Epoch 178/200\n",
            "5/5 [==============================] - 0s 15ms/step - loss: 0.3484 - accuracy: 0.9407 - val_loss: 0.3524 - val_accuracy: 1.0000\n",
            "Epoch 179/200\n",
            "5/5 [==============================] - 0s 14ms/step - loss: 0.3474 - accuracy: 0.9259 - val_loss: 0.3493 - val_accuracy: 1.0000\n",
            "Epoch 180/200\n",
            "5/5 [==============================] - 0s 14ms/step - loss: 0.3487 - accuracy: 0.9259 - val_loss: 0.3475 - val_accuracy: 1.0000\n",
            "Epoch 181/200\n",
            "5/5 [==============================] - 0s 14ms/step - loss: 0.3467 - accuracy: 0.9333 - val_loss: 0.3470 - val_accuracy: 1.0000\n",
            "Epoch 182/200\n",
            "5/5 [==============================] - 0s 14ms/step - loss: 0.3463 - accuracy: 0.9333 - val_loss: 0.3528 - val_accuracy: 0.9333\n",
            "Epoch 183/200\n",
            "5/5 [==============================] - 0s 14ms/step - loss: 0.3456 - accuracy: 0.9333 - val_loss: 0.3454 - val_accuracy: 1.0000\n",
            "Epoch 184/200\n",
            "5/5 [==============================] - 0s 10ms/step - loss: 0.3445 - accuracy: 0.9407 - val_loss: 0.3503 - val_accuracy: 0.9333\n",
            "Epoch 185/200\n",
            "5/5 [==============================] - 0s 10ms/step - loss: 0.3450 - accuracy: 0.9333 - val_loss: 0.3455 - val_accuracy: 1.0000\n",
            "Epoch 186/200\n",
            "5/5 [==============================] - 0s 9ms/step - loss: 0.3460 - accuracy: 0.9407 - val_loss: 0.3426 - val_accuracy: 1.0000\n",
            "Epoch 187/200\n",
            "5/5 [==============================] - 0s 10ms/step - loss: 0.3435 - accuracy: 0.9333 - val_loss: 0.3485 - val_accuracy: 0.9333\n",
            "Epoch 188/200\n",
            "5/5 [==============================] - 0s 10ms/step - loss: 0.3440 - accuracy: 0.9407 - val_loss: 0.3450 - val_accuracy: 1.0000\n",
            "Epoch 189/200\n",
            "5/5 [==============================] - 0s 9ms/step - loss: 0.3428 - accuracy: 0.9333 - val_loss: 0.3409 - val_accuracy: 1.0000\n",
            "Epoch 190/200\n",
            "5/5 [==============================] - 0s 13ms/step - loss: 0.3447 - accuracy: 0.9407 - val_loss: 0.3419 - val_accuracy: 1.0000\n",
            "Epoch 191/200\n",
            "5/5 [==============================] - 0s 10ms/step - loss: 0.3424 - accuracy: 0.9407 - val_loss: 0.3395 - val_accuracy: 1.0000\n",
            "Epoch 192/200\n",
            "5/5 [==============================] - 0s 10ms/step - loss: 0.3431 - accuracy: 0.9333 - val_loss: 0.3398 - val_accuracy: 1.0000\n",
            "Epoch 193/200\n",
            "5/5 [==============================] - 0s 11ms/step - loss: 0.3397 - accuracy: 0.9333 - val_loss: 0.3386 - val_accuracy: 1.0000\n",
            "Epoch 194/200\n",
            "5/5 [==============================] - 0s 9ms/step - loss: 0.3405 - accuracy: 0.9407 - val_loss: 0.3385 - val_accuracy: 1.0000\n",
            "Epoch 195/200\n",
            "5/5 [==============================] - 0s 10ms/step - loss: 0.3404 - accuracy: 0.9407 - val_loss: 0.3406 - val_accuracy: 1.0000\n",
            "Epoch 196/200\n",
            "5/5 [==============================] - 0s 9ms/step - loss: 0.3387 - accuracy: 0.9407 - val_loss: 0.3404 - val_accuracy: 1.0000\n",
            "Epoch 197/200\n",
            "5/5 [==============================] - 0s 10ms/step - loss: 0.3395 - accuracy: 0.9407 - val_loss: 0.3382 - val_accuracy: 1.0000\n",
            "Epoch 198/200\n",
            "5/5 [==============================] - 0s 9ms/step - loss: 0.3367 - accuracy: 0.9407 - val_loss: 0.3354 - val_accuracy: 1.0000\n",
            "Epoch 199/200\n",
            "5/5 [==============================] - 0s 14ms/step - loss: 0.3369 - accuracy: 0.9481 - val_loss: 0.3350 - val_accuracy: 1.0000\n",
            "Epoch 200/200\n",
            "5/5 [==============================] - 0s 9ms/step - loss: 0.3380 - accuracy: 0.9407 - val_loss: 0.3379 - val_accuracy: 1.0000\n"
          ]
        }
      ]
    },
    {
      "cell_type": "markdown",
      "source": [
        "#predicting on new data"
      ],
      "metadata": {
        "id": "ZQuR7nq2x5ly"
      }
    },
    {
      "cell_type": "code",
      "source": [
        "new_data=[5.2,3.5,1.4,8.2]"
      ],
      "metadata": {
        "id": "xsWYkiH4x7IC"
      },
      "execution_count": null,
      "outputs": []
    },
    {
      "cell_type": "code",
      "source": [
        "y_pred2=model.predict([new_data])"
      ],
      "metadata": {
        "colab": {
          "base_uri": "https://localhost:8080/"
        },
        "id": "M1u1eRlyyCET",
        "outputId": "0e034fb8-c9f1-4edf-8f04-5f274813bfb5"
      },
      "execution_count": null,
      "outputs": [
        {
          "output_type": "stream",
          "name": "stdout",
          "text": [
            "1/1 [==============================] - 0s 140ms/step\n"
          ]
        }
      ]
    },
    {
      "cell_type": "code",
      "source": [
        "y_pred2"
      ],
      "metadata": {
        "colab": {
          "base_uri": "https://localhost:8080/"
        },
        "id": "Nik9DBpdyPAr",
        "outputId": "50d2ce07-3ae3-4154-9d9f-0520500663fa"
      },
      "execution_count": null,
      "outputs": [
        {
          "output_type": "execute_result",
          "data": {
            "text/plain": [
              "array([[0.981364  , 0.43144783, 0.99982435]], dtype=float32)"
            ]
          },
          "metadata": {},
          "execution_count": 40
        }
      ]
    },
    {
      "cell_type": "code",
      "source": [
        "np.argmax(y_pred2)"
      ],
      "metadata": {
        "colab": {
          "base_uri": "https://localhost:8080/"
        },
        "id": "OeTVg5y8yTu6",
        "outputId": "6c218911-cd33-4239-f4e9-5cb3adafb768"
      },
      "execution_count": null,
      "outputs": [
        {
          "output_type": "execute_result",
          "data": {
            "text/plain": [
              "2"
            ]
          },
          "metadata": {},
          "execution_count": 41
        }
      ]
    },
    {
      "cell_type": "code",
      "source": [
        "xsss"
      ],
      "metadata": {
        "id": "evJXiwF8ybZb"
      },
      "execution_count": null,
      "outputs": []
    }
  ]
}